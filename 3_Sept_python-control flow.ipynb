{
 "cells": [
  {
   "cell_type": "markdown",
   "id": "5dcb5508-c124-403d-b606-00190d894431",
   "metadata": {},
   "source": [
    "## Basic if-else Statement:"
   ]
  },
  {
   "cell_type": "code",
   "execution_count": null,
   "id": "744aff50-a504-4be7-b847-2ac289502980",
   "metadata": {},
   "outputs": [],
   "source": []
  },
  {
   "cell_type": "markdown",
   "id": "587d3f5f-6a32-4c81-901f-d7af6f8f7057",
   "metadata": {},
   "source": [
    "Q1. Write a python program to check if a given number is positive or negative."
   ]
  },
  {
   "cell_type": "code",
   "execution_count": 3,
   "id": "373f8643-7d7f-43b5-bfdd-1830a903bfa4",
   "metadata": {},
   "outputs": [
    {
     "name": "stdin",
     "output_type": "stream",
     "text": [
      "Enter the number:  22\n"
     ]
    },
    {
     "name": "stdout",
     "output_type": "stream",
     "text": [
      "Positive number\n"
     ]
    }
   ],
   "source": [
    "num=int(input(\"Enter the number: \"))\n",
    "# first we get the value the user by using the input function and input should be integer.\n",
    "if num>0:\n",
    "# this statement indicate that if number is greater than zero then we print the positive number.    \n",
    "    print(\"Positive number\")\n",
    "else:\n",
    "    print(\"Negative number\")\n",
    "# else the number should be negative number.    "
   ]
  },
  {
   "cell_type": "code",
   "execution_count": null,
   "id": "4243262a-508f-461e-8438-3ca276dd7906",
   "metadata": {},
   "outputs": [],
   "source": []
  },
  {
   "cell_type": "markdown",
   "id": "dc9487f3-044b-4242-9590-64c8f1353027",
   "metadata": {},
   "source": [
    "Q2. Create a program that determine if a person is eligible to vote based on thier age."
   ]
  },
  {
   "cell_type": "code",
   "execution_count": 1,
   "id": "caba478f-097f-4300-b922-053018e9b4e4",
   "metadata": {},
   "outputs": [
    {
     "name": "stdin",
     "output_type": "stream",
     "text": [
      "Enter the age:  18\n"
     ]
    },
    {
     "name": "stdout",
     "output_type": "stream",
     "text": [
      "You are eligible to vote\n"
     ]
    }
   ],
   "source": [
    "age=int(input(\"Enter the age: \"))\n",
    "# first we get the age from the user.\n",
    "if age>=18:\n",
    "    print(\"You are eligible to vote\")\n",
    "else:\n",
    "    print(\"Sorry you are not eligible to vote\")\n",
    "# only those person can cast their vote whose are 18+ .    \n",
    "    "
   ]
  },
  {
   "cell_type": "code",
   "execution_count": null,
   "id": "ae67da67-0aff-48dd-9c9c-9a427202cc9e",
   "metadata": {},
   "outputs": [],
   "source": []
  },
  {
   "cell_type": "markdown",
   "id": "b82898fb-b3dd-4383-819e-e325f0a99033",
   "metadata": {},
   "source": [
    "Q3. Develop a program to find the maximum of the two numbers using if-else statements"
   ]
  },
  {
   "cell_type": "code",
   "execution_count": 2,
   "id": "d965ac3b-b624-45e6-9698-9b132485f804",
   "metadata": {},
   "outputs": [
    {
     "name": "stdin",
     "output_type": "stream",
     "text": [
      "Enter the value of A number:  25\n",
      "Enter the value of B number:  65\n"
     ]
    },
    {
     "name": "stdout",
     "output_type": "stream",
     "text": [
      "B is greater than A\n"
     ]
    }
   ],
   "source": [
    "a=input(\"Enter the value of A number: \")\n",
    "b=input(\"Enter the value of B number: \")\n",
    "if a>b:\n",
    "    print(\"A is greater than B\")\n",
    "else:\n",
    "    print(\"B is greater than A\")"
   ]
  },
  {
   "cell_type": "code",
   "execution_count": null,
   "id": "a3d22278-f76f-4970-a1e1-2ab5388aab32",
   "metadata": {},
   "outputs": [],
   "source": []
  },
  {
   "cell_type": "markdown",
   "id": "172b0c51-676e-4699-91bc-f2d4bb738b1c",
   "metadata": {},
   "source": [
    "Q4. Create a program that checks if a year is a leap year or not."
   ]
  },
  {
   "cell_type": "code",
   "execution_count": 11,
   "id": "d7ebad75-41e5-463b-b2cd-31febf493e14",
   "metadata": {},
   "outputs": [
    {
     "name": "stdin",
     "output_type": "stream",
     "text": [
      "Enter the year:  2001\n"
     ]
    },
    {
     "name": "stdout",
     "output_type": "stream",
     "text": [
      "This year is not a year\n"
     ]
    }
   ],
   "source": [
    "year=int(input(\"Enter the year: \"))\n",
    "if year%4==0:\n",
    "    print(\"This year is leap year\")\n",
    "else:\n",
    "    print(\"This year is not a year\")"
   ]
  },
  {
   "cell_type": "code",
   "execution_count": null,
   "id": "bbd4f368-ce4f-47fa-9050-b23e8ea5b666",
   "metadata": {},
   "outputs": [],
   "source": []
  },
  {
   "cell_type": "markdown",
   "id": "d78916fc-154b-46a8-bc30-1ecb4b12716d",
   "metadata": {},
   "source": [
    "Q5 Create a program that checks whether a character is a vowel or a consonant."
   ]
  },
  {
   "cell_type": "code",
   "execution_count": 3,
   "id": "679e6273-8075-4a0d-bce7-60aeba319368",
   "metadata": {},
   "outputs": [
    {
     "name": "stdin",
     "output_type": "stream",
     "text": [
      "Enter any character:  r\n"
     ]
    },
    {
     "name": "stdout",
     "output_type": "stream",
     "text": [
      "This is consonant\n"
     ]
    }
   ],
   "source": [
    "l=['a','e','i','o','u']\n",
    "# first I take a list, and that list contain all vowel\n",
    "letter=input(\"Enter any character: \")\n",
    "letter_small=letter.lower()\n",
    "# here I convert all character into the small case\n",
    "if letter_small in l:\n",
    "    print(\"This is vowel\")\n",
    "else:\n",
    "    print(\"This is consonant\")"
   ]
  },
  {
   "cell_type": "code",
   "execution_count": null,
   "id": "cf10abd8-9eef-4da3-818b-432df95a76f1",
   "metadata": {},
   "outputs": [],
   "source": []
  },
  {
   "cell_type": "markdown",
   "id": "6ccda2dd-06c1-4b58-85a6-4bfc3e0a27b7",
   "metadata": {},
   "source": [
    "Q6. Implement a program to determine whether a given number is even or odd."
   ]
  },
  {
   "cell_type": "code",
   "execution_count": 2,
   "id": "dc7128ca-1238-46a9-acb0-bd825937ca09",
   "metadata": {},
   "outputs": [
    {
     "name": "stdin",
     "output_type": "stream",
     "text": [
      "Enter the number:  3\n"
     ]
    },
    {
     "name": "stdout",
     "output_type": "stream",
     "text": [
      "This is odd number\n"
     ]
    }
   ],
   "source": [
    "num=int(input(\"Enter the number: \"))\n",
    "if num%2==0:\n",
    "    print(\"This is even number \")\n",
    "else:\n",
    "    print(\"This is odd number\")"
   ]
  },
  {
   "cell_type": "code",
   "execution_count": null,
   "id": "d978a80d-4b3b-480b-b9a6-bc72ad1bb9ab",
   "metadata": {},
   "outputs": [],
   "source": []
  },
  {
   "cell_type": "markdown",
   "id": "14f36223-bf9c-476f-9bce-aba3f4ee6c18",
   "metadata": {},
   "source": [
    "Q7. Write a python function to calculate the absolute value of a number without using the 'abs()' function."
   ]
  },
  {
   "cell_type": "code",
   "execution_count": 5,
   "id": "2e19d325-5f0a-4d79-8cda-ed8d53827992",
   "metadata": {},
   "outputs": [
    {
     "name": "stdout",
     "output_type": "stream",
     "text": [
      "Absolute value:  5\n"
     ]
    }
   ],
   "source": [
    "n=-5\n",
    "if n<0:\n",
    "    absolute=-n\n",
    "else:\n",
    "    absolute=n\n",
    "print(\"Absolute value: \",absolute)    "
   ]
  },
  {
   "cell_type": "code",
   "execution_count": null,
   "id": "371d1f9a-55ef-4f43-b54e-d48d06344b29",
   "metadata": {},
   "outputs": [],
   "source": []
  },
  {
   "cell_type": "markdown",
   "id": "9b71b4be-1dec-4b5d-9aaa-5525aca91287",
   "metadata": {},
   "source": [
    "Q8. Develop a program that determines the largest of three given numbers using if-else statements."
   ]
  },
  {
   "cell_type": "code",
   "execution_count": 1,
   "id": "020131b8-c873-47ac-86f7-d2b3f60cd287",
   "metadata": {},
   "outputs": [
    {
     "name": "stdin",
     "output_type": "stream",
     "text": [
      "Enter the first value:  5\n",
      "Enter the second value:  1\n",
      "Enter the third value:  1\n"
     ]
    },
    {
     "name": "stdout",
     "output_type": "stream",
     "text": [
      "A is greater than to all\n"
     ]
    }
   ],
   "source": [
    "a=int(input(\"Enter the first value: \"))\n",
    "b=int(input(\"Enter the second value: \"))\n",
    "c=int(input(\"Enter the third value: \"))\n",
    "if a>b:\n",
    "    if a>c:\n",
    "        print(\"A is greater than to all\")\n",
    "    else:\n",
    "        print(\"C is greater than A\")\n",
    "else:\n",
    "    if b>c:\n",
    "        print(\"B is graeter than C\")\n",
    "    else:\n",
    "        print(\"C is greater than B\")"
   ]
  },
  {
   "cell_type": "code",
   "execution_count": null,
   "id": "69d3664e-ace9-47d6-98ad-4cbc8d193122",
   "metadata": {},
   "outputs": [],
   "source": []
  },
  {
   "cell_type": "markdown",
   "id": "046fb686-28c9-46e7-8dc9-cdf1458e039b",
   "metadata": {},
   "source": [
    "Q9. Create a program that checks if a given string is a palindrome."
   ]
  },
  {
   "cell_type": "code",
   "execution_count": 4,
   "id": "7c563c8f-b130-441c-8feb-2eca44a0371a",
   "metadata": {},
   "outputs": [
    {
     "name": "stdin",
     "output_type": "stream",
     "text": [
      "Enter the string:  my name is\n"
     ]
    },
    {
     "name": "stdout",
     "output_type": "stream",
     "text": [
      "This string is not a palindrome\n"
     ]
    }
   ],
   "source": [
    "string=input(\"Enter the string: \")\n",
    "s=string[::-1]\n",
    "if s==string:\n",
    "    print(\"This string is palindrome \")\n",
    "else:\n",
    "    print(\"This string is not a palindrome\")"
   ]
  },
  {
   "cell_type": "code",
   "execution_count": null,
   "id": "893bb6af-413f-473f-a59f-85729796eb10",
   "metadata": {},
   "outputs": [],
   "source": []
  },
  {
   "cell_type": "markdown",
   "id": "399375a0-9a30-4c1f-93b9-fbbe712e0735",
   "metadata": {},
   "source": [
    "Q10. Write a Python program to calculate the grade based on a student's score."
   ]
  },
  {
   "cell_type": "code",
   "execution_count": 6,
   "id": "3ae08b30-f374-4799-a028-db46d9511d25",
   "metadata": {},
   "outputs": [
    {
     "name": "stdin",
     "output_type": "stream",
     "text": [
      "Enter the score:  89\n"
     ]
    },
    {
     "name": "stdout",
     "output_type": "stream",
     "text": [
      "Grade 'B'\n"
     ]
    }
   ],
   "source": [
    "score=int(input(\"Enter the score: \"))\n",
    "if score>=90:\n",
    "    print(\"Grade 'A'\")\n",
    "else:\n",
    "    print(\"Grade 'B'\")"
   ]
  },
  {
   "cell_type": "code",
   "execution_count": null,
   "id": "a267b2c8-75dd-46e6-8ae8-a1a76e739403",
   "metadata": {},
   "outputs": [],
   "source": []
  },
  {
   "cell_type": "markdown",
   "id": "0c612421-7864-4cac-a64d-c22026251dbe",
   "metadata": {},
   "source": [
    "## Nested If-Else Statements:"
   ]
  },
  {
   "cell_type": "code",
   "execution_count": null,
   "id": "041cc87e-6e37-4810-a248-65d95ef2bbf0",
   "metadata": {},
   "outputs": [],
   "source": []
  },
  {
   "cell_type": "markdown",
   "id": "497ec87f-f5e7-41d5-a191-6093d28e4722",
   "metadata": {},
   "source": [
    "Q11. Write a program to find the largest among three numbers using nested if-else statements."
   ]
  },
  {
   "cell_type": "code",
   "execution_count": 10,
   "id": "e5611460-57a9-49af-9f02-963bbe9c372a",
   "metadata": {},
   "outputs": [
    {
     "name": "stdin",
     "output_type": "stream",
     "text": [
      "Enter the first value:  2\n",
      "Enter the second value:  8\n",
      "Enter the third value:  9\n"
     ]
    },
    {
     "name": "stdout",
     "output_type": "stream",
     "text": [
      "Third number is greater than second\n"
     ]
    }
   ],
   "source": [
    "a=int(input(\"Enter the first value: \"))\n",
    "b=int(input(\"Enter the second value: \"))\n",
    "c=int(input(\"Enter the third value: \"))\n",
    "if a>b:\n",
    "    if a>c:\n",
    "        print(\"First number is greater than second and third\")\n",
    "\n",
    "    else:\n",
    "        print(\"Third number is greater than third\")\n",
    "else:\n",
    "    if b>c:\n",
    "        print(\"Second number is greater than third\")\n",
    "    else:\n",
    "        print(\"Third number is greater than second\")\n"
   ]
  },
  {
   "cell_type": "code",
   "execution_count": null,
   "id": "cfd6bd6e-6a19-4c90-9e57-c8e292eceb52",
   "metadata": {},
   "outputs": [],
   "source": [
    "\n"
   ]
  },
  {
   "cell_type": "markdown",
   "id": "cd10aa96-c75d-4dba-bba2-ee47a4d5ecfe",
   "metadata": {},
   "source": [
    "Q12. Implement a program to determine if a triangle is equilateral, isosceles, or scalene."
   ]
  },
  {
   "cell_type": "code",
   "execution_count": 5,
   "id": "678e6ce5-31d2-43ca-b2c2-e5a4e1adf6ed",
   "metadata": {},
   "outputs": [
    {
     "name": "stdin",
     "output_type": "stream",
     "text": [
      "Enter the first side of triangle:  3\n",
      "Enter the second side of triangle:  6\n",
      "Enter the third side of triangle:  9\n"
     ]
    },
    {
     "name": "stdout",
     "output_type": "stream",
     "text": [
      "Scalene triangle\n"
     ]
    }
   ],
   "source": [
    "a=int(input(\"Enter the first side of triangle: \"))\n",
    "b=int(input(\"Enter the second side of triangle: \"))\n",
    "c=int(input(\"Enter the third side of triangle: \"))\n",
    "if a==b==c:\n",
    "    print(\"Equilateral triangle\")\n",
    "elif a==b or b==c or c==a:\n",
    "    print(\"Isosceles triangle\")    \n",
    "else:\n",
    "    print(\"Scalene triangle\")\n",
    "    "
   ]
  },
  {
   "cell_type": "code",
   "execution_count": null,
   "id": "9a0f2ad4-22f1-400d-8bf0-fd5705fc42c2",
   "metadata": {},
   "outputs": [],
   "source": []
  },
  {
   "cell_type": "markdown",
   "id": "49fb28be-737d-4fdd-84a7-099e1acca0ee",
   "metadata": {},
   "source": [
    "Q13. Develop a program that checks if a year is a leap year and also if it is a century year."
   ]
  },
  {
   "cell_type": "code",
   "execution_count": 19,
   "id": "223d9c1a-4486-460c-927e-9f036d529d81",
   "metadata": {},
   "outputs": [
    {
     "name": "stdin",
     "output_type": "stream",
     "text": [
      "Enter the year:  1900\n"
     ]
    },
    {
     "name": "stdout",
     "output_type": "stream",
     "text": [
      "The year is not a leap year\n"
     ]
    }
   ],
   "source": [
    "year=int(input(\"Enter the year: \"))\n",
    "if year%4==0:\n",
    "    if year%100==0:\n",
    "        if year%400==0:\n",
    "            print(\"The year is a leap year\")\n",
    "        else:\n",
    "            print(\"The year is not a leap year\")\n",
    "    else:\n",
    "        print(\"The year is a leap year\")\n",
    "else:\n",
    "    print(\"The year is not a leap year\")"
   ]
  },
  {
   "cell_type": "code",
   "execution_count": null,
   "id": "4d77f310-9736-4252-b4b4-6f7ddc986cc0",
   "metadata": {},
   "outputs": [],
   "source": []
  },
  {
   "cell_type": "markdown",
   "id": "5955c4c6-496e-4d4b-95d5-84de502aa402",
   "metadata": {},
   "source": [
    "Q14. Write a Python script to determine if a number is positive, negative, or zero."
   ]
  },
  {
   "cell_type": "code",
   "execution_count": 2,
   "id": "41781865-607b-4632-a401-cc9ae8cba0ae",
   "metadata": {},
   "outputs": [
    {
     "name": "stdin",
     "output_type": "stream",
     "text": [
      "Enter the value:  -5\n"
     ]
    },
    {
     "name": "stdout",
     "output_type": "stream",
     "text": [
      "Negative value\n"
     ]
    }
   ],
   "source": [
    "num=int(input(\"Enter the value: \"))\n",
    "if num>0:\n",
    "    print(\"Positive value\")\n",
    "elif num<0:\n",
    "    print(\"Negative value\")\n",
    "else:\n",
    "    print(\"Zero\")"
   ]
  },
  {
   "cell_type": "code",
   "execution_count": null,
   "id": "8fa28f37-2bec-4866-87da-2f8394a0f006",
   "metadata": {},
   "outputs": [],
   "source": []
  },
  {
   "cell_type": "markdown",
   "id": "127b2156-4a8b-44ca-8084-9bf69c6f1641",
   "metadata": {},
   "source": [
    "Q15. Create a program to check if a person is a teenager (between 13 and 19 years old)."
   ]
  },
  {
   "cell_type": "code",
   "execution_count": 5,
   "id": "74c922fd-3afc-4d1b-8013-d5231683f685",
   "metadata": {},
   "outputs": [
    {
     "name": "stdin",
     "output_type": "stream",
     "text": [
      "Enter the age: 12\n"
     ]
    },
    {
     "name": "stdout",
     "output_type": "stream",
     "text": [
      "This person is not a teenager\n"
     ]
    }
   ],
   "source": [
    "age=int(input(\"Enter the age:\"))\n",
    "if age>=13:\n",
    "    if age<=19:\n",
    "        print(\"This person is teenager\")\n",
    "    else:\n",
    "        print(\"This person is not a teenager\")\n",
    "else:\n",
    "    print(\"This person is not a teenager\")        "
   ]
  },
  {
   "cell_type": "code",
   "execution_count": null,
   "id": "78c1cedf-77e0-42d4-a819-5ad79e1c7c45",
   "metadata": {},
   "outputs": [],
   "source": []
  },
  {
   "cell_type": "markdown",
   "id": "d13bcd6d-c104-4c2a-afde-5412bdecbc84",
   "metadata": {},
   "source": [
    "Q16. Develop a program that determines the type of angle based on its measure (acute, obtuse, or right)."
   ]
  },
  {
   "cell_type": "code",
   "execution_count": 3,
   "id": "81c51492-98e4-46ef-af10-8d0d51c5f1f5",
   "metadata": {},
   "outputs": [
    {
     "name": "stdout",
     "output_type": "stream",
     "text": [
      "Acute-angled triangle\n",
      "Right-angled triangle\n",
      "Obtuse-angled triangle\n"
     ]
    }
   ],
   "source": [
    "def triangle_type(angle1, angle2, angle3):\n",
    "    if angle1 == 90 or angle2 == 90 or angle3 == 90:\n",
    "        return \"Right-angled triangle\"\n",
    "    elif angle1 > 90 or angle2 > 90 or angle3 > 90:\n",
    "        return \"Obtuse-angled triangle\"\n",
    "    else:\n",
    "        return \"Acute-angled triangle\"\n",
    "\n",
    "# Example usage\n",
    "print(triangle_type(60, 60, 60))  # Acute-angled triangle\n",
    "print(triangle_type(90, 45, 45))  # Right-angled triangle\n",
    "print(triangle_type(120, 30, 30))  # Obtuse-angled triangle"
   ]
  },
  {
   "cell_type": "code",
   "execution_count": null,
   "id": "17774381-93a2-4f9e-8640-226fa267b4df",
   "metadata": {},
   "outputs": [],
   "source": []
  },
  {
   "cell_type": "markdown",
   "id": "2f1ccab4-4485-47cb-bfd2-748f65ec0ed9",
   "metadata": {},
   "source": [
    "Q17. Write a Python program to calculate the roots of a quadratic equation."
   ]
  },
  {
   "cell_type": "code",
   "execution_count": 5,
   "id": "a3821059-6b2d-48e8-8473-0b76c5563bb8",
   "metadata": {},
   "outputs": [
    {
     "name": "stdin",
     "output_type": "stream",
     "text": [
      "Enter the value of a:  5\n",
      "Enter the value of b:  1\n",
      "Enter the value of c:  6\n"
     ]
    },
    {
     "name": "stdout",
     "output_type": "stream",
     "text": [
      "The solution are (-0.1-1.0908712114635715j) and (-0.1+1.0908712114635715j)\n"
     ]
    }
   ],
   "source": [
    "import cmath\n",
    "\n",
    "a = int(input(\"Enter the value of a: \"))\n",
    "b = int(input(\"Enter the value of b: \"))\n",
    "c = int(input(\"Enter the value of c: \"))\n",
    "\n",
    "# calculate the discriminant\n",
    "d = (b**2) - (4*a*c)\n",
    "\n",
    "# find two solutions\n",
    "sol1 = (-b-cmath.sqrt(d))/(2*a)\n",
    "sol2 = (-b+cmath.sqrt(d))/(2*a)\n",
    "\n",
    "print('The solution are {0} and {1}'.format(sol1,sol2))"
   ]
  },
  {
   "cell_type": "code",
   "execution_count": null,
   "id": "449d55ef-e304-47b1-a5a4-f047b80da52f",
   "metadata": {},
   "outputs": [],
   "source": []
  },
  {
   "cell_type": "markdown",
   "id": "5cfae3be-2926-49ba-ae48-c21fb8a3de39",
   "metadata": {},
   "source": [
    "Q18. Implement a program to determine the day of the week based on a user-provided number (1 for Monday, 2 for Tuesday, etc.)."
   ]
  },
  {
   "cell_type": "code",
   "execution_count": 7,
   "id": "125bbfc1-b3be-407f-9851-4720120c951e",
   "metadata": {},
   "outputs": [
    {
     "name": "stdin",
     "output_type": "stream",
     "text": [
      "Enter the day code:  5\n"
     ]
    },
    {
     "name": "stdout",
     "output_type": "stream",
     "text": [
      "Friday\n"
     ]
    }
   ],
   "source": [
    "day=int(input(\"Enter the day code: \"))\n",
    "if day==1:\n",
    "    print(\"Monday\")\n",
    "elif day==2:\n",
    "    print(\"Tuesday\")\n",
    "elif day==3:\n",
    "    print(\"Wednesday\")\n",
    "elif day==4:\n",
    "    print(\"Thursday\")\n",
    "elif day==5:\n",
    "    print(\"Friday\")\n",
    "elif day==6:\n",
    "    print(\"Saturday\")\n",
    "elif day==7:\n",
    "    print(\"Sunday\")\n",
    "else:\n",
    "    print(\"Wrong operator\")"
   ]
  },
  {
   "cell_type": "code",
   "execution_count": null,
   "id": "577b2f44-f7a3-4384-b636-dc284ae395c6",
   "metadata": {},
   "outputs": [],
   "source": []
  },
  {
   "cell_type": "markdown",
   "id": "38d7bd17-6b25-43f2-91cf-3a7f6cd94e5b",
   "metadata": {},
   "source": [
    "Q19. Create a program that determines if a year is a leap year and also if it is evenly divisible by 400."
   ]
  },
  {
   "cell_type": "code",
   "execution_count": 8,
   "id": "5ef2c85c-e077-4893-b888-cf47cf5211f7",
   "metadata": {},
   "outputs": [
    {
     "name": "stdin",
     "output_type": "stream",
     "text": [
      "Enter the year:  1900\n"
     ]
    },
    {
     "name": "stdout",
     "output_type": "stream",
     "text": [
      "The year is not a leap year\n"
     ]
    }
   ],
   "source": [
    "year=int(input(\"Enter the year: \"))\n",
    "if year%4==0:\n",
    "    if year%100==0:\n",
    "        if year%400==0:\n",
    "            print(\"The year is a leap year\")\n",
    "        else:\n",
    "            print(\"The year is not a leap year\")\n",
    "    else:\n",
    "        print(\"The year is a leap year\")\n",
    "else:\n",
    "    print(\"The year is not a leap year\")"
   ]
  },
  {
   "cell_type": "code",
   "execution_count": null,
   "id": "669101ab-65cc-4f3e-8826-c2511a205fca",
   "metadata": {},
   "outputs": [],
   "source": []
  },
  {
   "cell_type": "markdown",
   "id": "618db81d-9696-47ac-a92b-43b8e94459e6",
   "metadata": {},
   "source": [
    "Q20. Develop a program that checks if a given number is prime or not using nested if-else statements."
   ]
  },
  {
   "cell_type": "code",
   "execution_count": 10,
   "id": "78be791e-1be6-4423-b623-7b3e9c834356",
   "metadata": {},
   "outputs": [
    {
     "name": "stdin",
     "output_type": "stream",
     "text": [
      "Enter the value:  9\n"
     ]
    },
    {
     "name": "stdout",
     "output_type": "stream",
     "text": [
      "9 is not a prime number\n"
     ]
    }
   ],
   "source": [
    "num = int(input(\"Enter the value: \"))\n",
    "# If given number is greater than 1\n",
    "if num > 1:\n",
    "    # Iterate from 2 to n / 2\n",
    "    for i in range(2, int(num/2)+1):\n",
    "        # If num is divisible by any number between\n",
    "        # 2 and n / 2, it is not prime\n",
    "        if (num % i) == 0:\n",
    "            print(num, \"is not a prime number\")\n",
    "            break\n",
    "    else:\n",
    "        print(num, \"is a prime number\")\n",
    "else:\n",
    "    print(num, \"is not a prime number\")"
   ]
  },
  {
   "cell_type": "code",
   "execution_count": null,
   "id": "499f0ad9-2045-41e3-a59c-7668e62eacec",
   "metadata": {},
   "outputs": [],
   "source": []
  },
  {
   "cell_type": "markdown",
   "id": "fa0bd840-3e7a-4b81-bc7c-e64adbbe6b8e",
   "metadata": {},
   "source": [
    "## Elif Statements:"
   ]
  },
  {
   "cell_type": "code",
   "execution_count": null,
   "id": "aaef13f3-2fe7-4e8e-bdfc-2fea7413f6bd",
   "metadata": {},
   "outputs": [],
   "source": []
  },
  {
   "cell_type": "markdown",
   "id": "485727e3-a508-4ca6-8428-2acf9aaa5061",
   "metadata": {},
   "source": [
    "Q21. Write a Python program to assign grades based on different ranges of scores using elif statements"
   ]
  },
  {
   "cell_type": "code",
   "execution_count": 20,
   "id": "c5f8df2b-c48f-4ab9-9a32-d263bde7a8e9",
   "metadata": {},
   "outputs": [
    {
     "name": "stdin",
     "output_type": "stream",
     "text": [
      "Enter the marks 95\n"
     ]
    },
    {
     "name": "stdout",
     "output_type": "stream",
     "text": [
      "Grade 'A'\n"
     ]
    }
   ],
   "source": [
    "marks=int(input(\"Enter the marks\"))\n",
    "if marks<=100 and marks>90:\n",
    "    print(\"Grade 'A'\")\n",
    "elif marks<=90 and marks>80:\n",
    "    print(\"Grade 'B'\")\n",
    "elif marks<=80 and marks>60:\n",
    "    print(\"Grade 'C'\")\n",
    "elif marks<=60 and marks>=0:\n",
    "    print(\"Fail\")\n",
    "else:\n",
    "    print(\"Invalid input\")"
   ]
  },
  {
   "cell_type": "code",
   "execution_count": null,
   "id": "a96d57c6-2ec4-455d-8ad1-1a8452fea458",
   "metadata": {},
   "outputs": [],
   "source": []
  },
  {
   "cell_type": "markdown",
   "id": "8a6666ac-9d77-467a-9e42-63a20c1aef2a",
   "metadata": {},
   "source": [
    "Q22. Implement a program to determine the type of a triangle based on its angles."
   ]
  },
  {
   "cell_type": "code",
   "execution_count": 1,
   "id": "d6d51c23-3d66-434c-bda4-dbeaed6e47a7",
   "metadata": {},
   "outputs": [
    {
     "name": "stdout",
     "output_type": "stream",
     "text": [
      "Acute-angled triangle\n",
      "Right-angled triangle\n",
      "Obtuse-angled triangle\n"
     ]
    }
   ],
   "source": [
    "def triangle_type(angle1, angle2, angle3):\n",
    "    if angle1 == 90 or angle2 == 90 or angle3 == 90:\n",
    "        return \"Right-angled triangle\"\n",
    "    elif angle1 > 90 or angle2 > 90 or angle3 > 90:\n",
    "        return \"Obtuse-angled triangle\"\n",
    "    else:\n",
    "        return \"Acute-angled triangle\"\n",
    "\n",
    "# Example usage\n",
    "print(triangle_type(60, 60, 60))  # Acute-angled triangle\n",
    "print(triangle_type(90, 45, 45))  # Right-angled triangle\n",
    "print(triangle_type(120, 30, 30))  # Obtuse-angled triangle\n"
   ]
  },
  {
   "cell_type": "code",
   "execution_count": null,
   "id": "18191c28-922b-4453-9b99-411a7a357467",
   "metadata": {},
   "outputs": [],
   "source": []
  },
  {
   "cell_type": "markdown",
   "id": "c654222b-4c5e-4815-8cae-2e8d563038d2",
   "metadata": {},
   "source": [
    "Q23. Develop a program to categorize a given person's BMI into underweight, normal, overweight, or obese using elif statements."
   ]
  },
  {
   "cell_type": "code",
   "execution_count": 8,
   "id": "b6c1d75a-176a-4c31-ad13-ce9c68bacf28",
   "metadata": {},
   "outputs": [
    {
     "name": "stdin",
     "output_type": "stream",
     "text": [
      "Enter the weight in kg:  65\n",
      "Enter the height in centimetre:  170\n"
     ]
    },
    {
     "name": "stdout",
     "output_type": "stream",
     "text": [
      "The person is normal\n"
     ]
    }
   ],
   "source": [
    "weight=int(input(\"Enter the weight in kg: \"))\n",
    "height=float(input(\"Enter the height in centimetre: \"))\n",
    "x = (weight/height/height)*10000\n",
    "# here x is bmi(body mass index)\n",
    "if x <= 18.4:\n",
    "    print(\"The person is Underweight\")\n",
    "elif x> 18.5 and x< 24.9:\n",
    "    print(\"The person is normal\")\n",
    "elif x > 25.0 and x < 40.0:\n",
    "    print(\"The person is Overweight\")\n",
    "elif x>=40:\n",
    "    print(\"The person is Obese\")\n",
    "else:\n",
    "    print(\"Invalid entry\")"
   ]
  },
  {
   "cell_type": "code",
   "execution_count": null,
   "id": "039c9aa2-1b52-444d-820a-710d046ecf41",
   "metadata": {},
   "outputs": [],
   "source": []
  },
  {
   "cell_type": "markdown",
   "id": "a77fdf77-9d32-4556-aec8-f8baf6a05221",
   "metadata": {},
   "source": [
    "Q24. Create a program that determines whether a given number is positive, negative, or zero using elif statements."
   ]
  },
  {
   "cell_type": "code",
   "execution_count": 22,
   "id": "ed61e689-4f50-4dd7-bd04-e317ee3c143f",
   "metadata": {},
   "outputs": [
    {
     "name": "stdin",
     "output_type": "stream",
     "text": [
      "Enter the number:  -5\n"
     ]
    },
    {
     "name": "stdout",
     "output_type": "stream",
     "text": [
      "Negative value\n"
     ]
    }
   ],
   "source": [
    "num=int(input(\"Enter the number: \"))\n",
    "if num>0:\n",
    "    print(\"Positive value\")\n",
    "elif num<0:\n",
    "    print(\"Negative value\")\n",
    "else:\n",
    "    print(\"Zero\")"
   ]
  },
  {
   "cell_type": "code",
   "execution_count": null,
   "id": "9e9bba43-7776-4142-a50f-f717962f4d8f",
   "metadata": {},
   "outputs": [],
   "source": []
  },
  {
   "cell_type": "markdown",
   "id": "186c5150-6e41-4377-b60b-ccd6523efa7e",
   "metadata": {},
   "source": [
    "Q25. Write a Python script to determine the type of a character (uppercase, lowercase, or special) using elif \n",
    "statements."
   ]
  },
  {
   "cell_type": "code",
   "execution_count": 4,
   "id": "a3f05528-bd19-4b36-b057-cb139101786a",
   "metadata": {},
   "outputs": [
    {
     "name": "stdin",
     "output_type": "stream",
     "text": [
      "Enter a character:  %\n"
     ]
    },
    {
     "name": "stdout",
     "output_type": "stream",
     "text": [
      "% is a special character.\n"
     ]
    }
   ],
   "source": [
    "character = input(\"Enter a character: \")\n",
    "\n",
    "if character.isupper():\n",
    "    print(f\"{character} is an uppercase letter.\")\n",
    "elif character.islower():\n",
    "    print(f\"{character} is a lowercase letter.\")\n",
    "else:\n",
    "    print(f\"{character} is a special character.\")\n"
   ]
  },
  {
   "cell_type": "code",
   "execution_count": null,
   "id": "8f29da96-4066-45dc-83c0-57d784bce9a2",
   "metadata": {},
   "outputs": [],
   "source": []
  },
  {
   "cell_type": "markdown",
   "id": "b8ba5fd8-077d-4348-b260-d8cd8bf6751c",
   "metadata": {},
   "source": [
    "Q26. Implement a program to calculate the discounted price based on different purchase amounts using elif statements"
   ]
  },
  {
   "cell_type": "code",
   "execution_count": 32,
   "id": "2b82a41c-9aae-49d6-a89f-af57aa06f28e",
   "metadata": {},
   "outputs": [
    {
     "name": "stdin",
     "output_type": "stream",
     "text": [
      "Enter the amount:  4999\n"
     ]
    },
    {
     "name": "stdout",
     "output_type": "stream",
     "text": [
      "You need to full amount:  4999\n"
     ]
    }
   ],
   "source": [
    "amt=int(input(\"Enter the amount: \"))\n",
    "if amt>=10000:\n",
    "    print(\"You got 15% discount\")\n",
    "    amt=amt-(amt*0.15)\n",
    "    print(\"Your payable amount is: \",amt)\n",
    "elif amt>=8000:\n",
    "    print(\"You got 10% discount\")\n",
    "    amt=amt-(amt*0.1)\n",
    "    print(\"Your payable amount is: \",amt)\n",
    "elif amt>=5000:\n",
    "    print(\"You got 5% discount\")\n",
    "    amt=amt-(amt*0.05)\n",
    "    print(\"Your payable amount is: \",amt)\n",
    "else:\n",
    "    print(\"You need to full amount: \",amt)"
   ]
  },
  {
   "cell_type": "code",
   "execution_count": null,
   "id": "499b2d39-fd66-4443-a96b-9a0ff9221037",
   "metadata": {},
   "outputs": [],
   "source": []
  },
  {
   "cell_type": "markdown",
   "id": "84982a19-ede2-4e1c-99a5-28093ad3c2c3",
   "metadata": {},
   "source": [
    "Q27. Develop a program to calculate the electricity bill based on different consumption slabs using elif statements."
   ]
  },
  {
   "cell_type": "code",
   "execution_count": 34,
   "id": "9aeaf399-8e9b-4e1a-a7e9-fa0d30e62b1a",
   "metadata": {},
   "outputs": [
    {
     "name": "stdin",
     "output_type": "stream",
     "text": [
      "Enter the unit:  550\n"
     ]
    },
    {
     "name": "stdout",
     "output_type": "stream",
     "text": [
      "6 rupee per unit\n",
      "Payable amount:  3300\n"
     ]
    }
   ],
   "source": [
    "unit=int(input(\"Enter the unit: \"))\n",
    "if unit>=200:\n",
    "    print(\"6 rupee per unit\")\n",
    "    amt=unit*6\n",
    "    print(\"Payable amount: \",amt)\n",
    "elif unit>=250:\n",
    "    print(\"7 rupee per unit\")\n",
    "    amt=unit*7\n",
    "    print(\"Payable amount: \",amt)\n",
    "elif unit>=500:\n",
    "    print(\"8 rupee per unit\")\n",
    "    amt=unit*8\n",
    "    print(\"Payable amount: \",amt)"
   ]
  },
  {
   "cell_type": "code",
   "execution_count": null,
   "id": "e230ae65-ff53-4649-9d11-b51011077c25",
   "metadata": {},
   "outputs": [],
   "source": []
  },
  {
   "cell_type": "markdown",
   "id": "ec8233ba-21e1-4114-b3e8-e57306fb0fa8",
   "metadata": {},
   "source": [
    "Q28. Create a program to determine the type of quadrilateral based on its angles and sides using elif statements."
   ]
  },
  {
   "cell_type": "code",
   "execution_count": 29,
   "id": "2942672f-2963-4eab-aac9-cb7c092f6d30",
   "metadata": {},
   "outputs": [],
   "source": [
    "def quad(a,b,c,d,A,B,C,D):\n",
    "    # Check if all angles are 90 degree\n",
    "    if a==90 and b==90 and c==90 and d==90:\n",
    "        if A == B == C == D:\n",
    "            return \"Square\"\n",
    "        elif A == C and B == D:\n",
    "            return \"Rectangle\"\n",
    "    # Check if opposite angles are equal\n",
    "    elif a == c and b==d:\n",
    "        if A == B == C == D:\n",
    "            return \"Rhombus\"\n",
    "        elif A==C and B==D:\n",
    "            return \"Parellelogram\"\n",
    "    # Check if only one pair of opposite angles is equal \n",
    "    elif a==c or b==d:\n",
    "        if A == B == C == D:\n",
    "            return \"Kite\"\n",
    "        elif A == C and B == D:\n",
    "            return \"Quadrilateral with one pair of opposite angles equal\"\n",
    "    else:\n",
    "        return \"Other Quadrilateral\""
   ]
  },
  {
   "cell_type": "code",
   "execution_count": 35,
   "id": "93179720-cc03-42c6-8331-17a610146e91",
   "metadata": {},
   "outputs": [
    {
     "data": {
      "text/plain": [
       "'Rectangle'"
      ]
     },
     "execution_count": 35,
     "metadata": {},
     "output_type": "execute_result"
    }
   ],
   "source": [
    "quad(90,90,90,90,10,20,10,20)"
   ]
  },
  {
   "cell_type": "markdown",
   "id": "b6f6f979-a90e-471a-bcc9-83062c73cbba",
   "metadata": {},
   "source": [
    "Q29. Write a Python script to determine the season based on a user-provided month using elif statements."
   ]
  },
  {
   "cell_type": "code",
   "execution_count": 1,
   "id": "5040d74e-4aa3-41e6-955e-366e23875739",
   "metadata": {},
   "outputs": [],
   "source": [
    "def find_season(month):\n",
    "    l=[[12,1,2],[3,4,5],[6,7,8],[9,10,11]]\n",
    "    if month in l[0]:\n",
    "        print(\"Winter\")\n",
    "    elif month in l[1]:\n",
    "        print(\"String\")\n",
    "    elif month in l[2]:\n",
    "        print(\"Summer\")\n",
    "    elif month in l[3]:\n",
    "        print(\"Autumn\")\n",
    "    else:\n",
    "        print(\"Invalid month\")"
   ]
  },
  {
   "cell_type": "code",
   "execution_count": 3,
   "id": "f016f227-83a3-4108-a409-c628e4c543d7",
   "metadata": {},
   "outputs": [
    {
     "name": "stdout",
     "output_type": "stream",
     "text": [
      "Winter\n"
     ]
    }
   ],
   "source": [
    "find_season(1)"
   ]
  },
  {
   "cell_type": "code",
   "execution_count": null,
   "id": "13d8c3ff-f24f-478d-ae96-1a69ee642eb2",
   "metadata": {},
   "outputs": [],
   "source": []
  },
  {
   "cell_type": "markdown",
   "id": "dce3e11a-adee-4727-aa83-4f8930a8547b",
   "metadata": {},
   "source": [
    "Q30. Implement a program to determine the type of a year (leap or common) and month (30 or 31 days) using \n",
    "elif statements."
   ]
  },
  {
   "cell_type": "code",
   "execution_count": 1,
   "id": "2eaa46a3-3a63-48df-843e-8ba22b4514d4",
   "metadata": {},
   "outputs": [
    {
     "name": "stdin",
     "output_type": "stream",
     "text": [
      "Enter the year:  2000\n",
      "Enter the month:  2\n"
     ]
    },
    {
     "name": "stdout",
     "output_type": "stream",
     "text": [
      "2000 is a leap year\n",
      "None\n",
      "This month has 28 days\n",
      "None\n"
     ]
    }
   ],
   "source": [
    "\n",
    "def y(year):\n",
    "    if (year % 400 == 0) and (year % 100 == 0):\n",
    "        print(\"{0} is a leap year\".format(year))\n",
    "    elif (year % 4 == 0) and (year % 100 != 0):\n",
    "        print(\"{0} is a leap year\".format(year))\n",
    "    else:\n",
    "        print(\"{0} is not a leap year\".format(year))\n",
    "\n",
    "\n",
    "def m(month):\n",
    "    if month in [1, 3, 5, 7, 8, 10, 12]:\n",
    "        print(\"This month has 31 days\")\n",
    "    elif month in [4, 6, 9, 11]:\n",
    "        print(\"This month has 30 days\")\n",
    "    elif month == 2:\n",
    "        if y is True:\n",
    "            print(\"This month has 29 days\")\n",
    "        else:\n",
    "            print(\"This month has 28 days\")\n",
    "    else:\n",
    "        print(\"Invalid month\")\n",
    "\n",
    "\n",
    "year=int(input(\"Enter the year: \"))\n",
    "month=int(input(\"Enter the month: \"))\n",
    "print(y(year))\n",
    "print(m(month))"
   ]
  },
  {
   "cell_type": "code",
   "execution_count": null,
   "id": "ad22f256-dc12-4d85-836d-4caf3aed361e",
   "metadata": {},
   "outputs": [],
   "source": [
    "OR"
   ]
  },
  {
   "cell_type": "code",
   "execution_count": 2,
   "id": "00020e7a-e82b-4dc1-9130-faf56962b82c",
   "metadata": {},
   "outputs": [
    {
     "name": "stdin",
     "output_type": "stream",
     "text": [
      "Enter the year:  2000\n",
      "Enter the month:  2\n"
     ]
    },
    {
     "name": "stdout",
     "output_type": "stream",
     "text": [
      "2000 is a leap year\n",
      "This month has 29 days\n"
     ]
    }
   ],
   "source": [
    "def is_leap_year(year):\n",
    "    if (year % 400 == 0) or ((year % 4 == 0) and (year % 100 != 0)):\n",
    "        return True\n",
    "    else:\n",
    "        return False\n",
    "\n",
    "def days_in_month(month, year):\n",
    "    if month in [1, 3, 5, 7, 8, 10, 12]:\n",
    "        return 31\n",
    "    elif month in [4, 6, 9, 11]:\n",
    "        return 30\n",
    "    elif month == 2:\n",
    "        if is_leap_year(year):\n",
    "            return 29\n",
    "        else:\n",
    "            return 28\n",
    "    else:\n",
    "        return None\n",
    "\n",
    "year = int(input(\"Enter the year: \"))\n",
    "month = int(input(\"Enter the month: \"))\n",
    "\n",
    "if is_leap_year(year):\n",
    "    print(f\"{year} is a leap year\")\n",
    "else:\n",
    "    print(f\"{year} is not a leap year\")\n",
    "\n",
    "days = days_in_month(month, year)\n",
    "if days is not None:\n",
    "    print(f\"This month has {days} days\")\n",
    "else:\n",
    "    print(\"Invalid month\")"
   ]
  },
  {
   "cell_type": "code",
   "execution_count": null,
   "id": "fe23bbbd-23c6-41dc-9680-e203051d3ae3",
   "metadata": {},
   "outputs": [],
   "source": []
  },
  {
   "cell_type": "markdown",
   "id": "0a9465fb-7267-41e1-92f2-57cd115c9897",
   "metadata": {},
   "source": [
    "## Basic Level:"
   ]
  },
  {
   "cell_type": "code",
   "execution_count": null,
   "id": "fc674406-18ad-4dc0-a809-42667c743fce",
   "metadata": {},
   "outputs": [],
   "source": []
  },
  {
   "cell_type": "markdown",
   "id": "cc5ffd31-bd55-42db-a7a6-c45dbc63c54b",
   "metadata": {},
   "source": [
    "Q1. Write a Python program that checks if a given number is positive, negative, or zero."
   ]
  },
  {
   "cell_type": "code",
   "execution_count": 4,
   "id": "884d7cec-9f74-4a33-8fa2-e8994353aedd",
   "metadata": {},
   "outputs": [
    {
     "name": "stdin",
     "output_type": "stream",
     "text": [
      "enter the number:  -6\n"
     ]
    },
    {
     "name": "stdout",
     "output_type": "stream",
     "text": [
      "Negative number\n"
     ]
    }
   ],
   "source": [
    "num=int(input(\"enter the number: \"))\n",
    "if num>0:\n",
    "    print(\"Positive number\")\n",
    "elif num<0:\n",
    "    print(\"Negative number\")\n",
    "else:\n",
    "    print(\"Zero\")"
   ]
  },
  {
   "cell_type": "code",
   "execution_count": null,
   "id": "857ff1ec-69a9-400e-ac19-c1e37bd98d45",
   "metadata": {},
   "outputs": [],
   "source": []
  },
  {
   "cell_type": "markdown",
   "id": "9cc633ef-e912-4e20-b8e6-65377d6af66f",
   "metadata": {},
   "source": [
    "Q2. Create a program to determine if a person is eligible to vote based on their age."
   ]
  },
  {
   "cell_type": "code",
   "execution_count": 6,
   "id": "cac3e0ee-7c04-4b94-bcc2-6c7448d04759",
   "metadata": {},
   "outputs": [
    {
     "name": "stdin",
     "output_type": "stream",
     "text": [
      "Enter the age:  17\n"
     ]
    },
    {
     "name": "stdout",
     "output_type": "stream",
     "text": [
      "You are not eligible for vote\n"
     ]
    }
   ],
   "source": [
    "age=int(input(\"Enter the age: \"))\n",
    "if age>=18:\n",
    "    print(\"You are eligible for vote\")\n",
    "else:\n",
    "    print(\"You are not eligible for vote\")"
   ]
  },
  {
   "cell_type": "code",
   "execution_count": null,
   "id": "685f89d5-854d-46be-abf4-19e3ef877e07",
   "metadata": {},
   "outputs": [],
   "source": []
  },
  {
   "cell_type": "markdown",
   "id": "f7317254-7c2c-4f49-b483-2b46506d16e2",
   "metadata": {},
   "source": [
    "Q3. Write a program to find the maximum of two given numbers using conditional statements."
   ]
  },
  {
   "cell_type": "code",
   "execution_count": 1,
   "id": "2db72364-8eba-413b-ae92-4aeb4d6ee500",
   "metadata": {},
   "outputs": [
    {
     "name": "stdin",
     "output_type": "stream",
     "text": [
      "Enter the value:  2\n",
      "Enter the value:  1\n"
     ]
    },
    {
     "name": "stdout",
     "output_type": "stream",
     "text": [
      "A is greater than B\n"
     ]
    }
   ],
   "source": [
    "a=input(\"Enter the value: \")\n",
    "b=input(\"Enter the value: \")\n",
    "if int(a)>int(b):\n",
    "    print(\"A is greater than B\")\n",
    "else:\n",
    "    print(\"B is graeter than A\")"
   ]
  },
  {
   "cell_type": "code",
   "execution_count": null,
   "id": "6e975136-0585-45a6-b5b0-0b55e093e213",
   "metadata": {},
   "outputs": [],
   "source": []
  },
  {
   "cell_type": "markdown",
   "id": "9a39c43a-cfff-4f59-afda-a7a1bc0d1b51",
   "metadata": {},
   "source": [
    "Q4. Develop a program that calculates the grade of a student based on their exam score"
   ]
  },
  {
   "cell_type": "code",
   "execution_count": 2,
   "id": "10561e2e-fd6b-4515-8459-b218662d98ac",
   "metadata": {},
   "outputs": [
    {
     "name": "stdin",
     "output_type": "stream",
     "text": [
      "Enter the score:  54\n"
     ]
    },
    {
     "name": "stdout",
     "output_type": "stream",
     "text": [
      "Poor\n"
     ]
    }
   ],
   "source": [
    "score=int(input(\"Enter the score: \"))\n",
    "if score>=90:\n",
    "    print(\"Excellent\")\n",
    "elif score>=75:\n",
    "    print(\"Good\")\n",
    "elif score>=55:\n",
    "    print(\"Average\")\n",
    "else:\n",
    "    print(\"Poor\")"
   ]
  },
  {
   "cell_type": "code",
   "execution_count": null,
   "id": "2bad4608-3368-438c-9965-962cef1f4f9b",
   "metadata": {},
   "outputs": [],
   "source": []
  },
  {
   "cell_type": "markdown",
   "id": "329c7471-4c43-4f5d-9717-38f5e528ca02",
   "metadata": {},
   "source": [
    "Q5. Create a program that checks if a year is a leap year or not."
   ]
  },
  {
   "cell_type": "code",
   "execution_count": 2,
   "id": "81718d70-fe21-4968-9b89-80e0d8c1b95f",
   "metadata": {},
   "outputs": [
    {
     "name": "stdin",
     "output_type": "stream",
     "text": [
      "Enter the year:  2005\n"
     ]
    },
    {
     "name": "stdout",
     "output_type": "stream",
     "text": [
      "This is not leap year\n"
     ]
    }
   ],
   "source": [
    "year=int(input(\"Enter the year: \"))\n",
    "if year%4==0:\n",
    "    print(\"This is leap year\")\n",
    "else:\n",
    "    print(\"This is not leap year\")"
   ]
  },
  {
   "cell_type": "code",
   "execution_count": null,
   "id": "0ce421f6-0773-4645-8cfb-b2bc9d5ac9cc",
   "metadata": {},
   "outputs": [],
   "source": []
  },
  {
   "cell_type": "markdown",
   "id": "ca19168a-a017-4611-9f0b-f399b029adad",
   "metadata": {},
   "source": [
    "Q6. Write a program to classify a triangle based on its sides' lengths."
   ]
  },
  {
   "cell_type": "code",
   "execution_count": 3,
   "id": "b478c27b-4224-49da-a1d9-00136a6b7044",
   "metadata": {},
   "outputs": [
    {
     "name": "stdin",
     "output_type": "stream",
     "text": [
      "Enter the first side:  12\n",
      "Enter the second side:  5\n",
      "Enter the third side:  13\n"
     ]
    },
    {
     "name": "stdout",
     "output_type": "stream",
     "text": [
      "Right angles triangle\n"
     ]
    }
   ],
   "source": [
    "a = int(input(\"Enter the first side: \"))\n",
    "b = int(input(\"Enter the second side: \"))\n",
    "c = int(input(\"Enter the third side: \"))\n",
    "\n",
    "if a**2 + b**2 > c**2:\n",
    "    print(\"Acute angled triangle\")\n",
    "elif a**2 + b**2 < c**2:\n",
    "    print(\"Obtuse angled triangle\")\n",
    "else:\n",
    "    print(\"Right angles triangle\")"
   ]
  },
  {
   "cell_type": "code",
   "execution_count": null,
   "id": "212af735-b8d9-466f-b5f6-323aaeca1e2e",
   "metadata": {},
   "outputs": [],
   "source": []
  },
  {
   "cell_type": "markdown",
   "id": "bb69fb15-fc27-4fb1-82ba-2c3b8f2c1b96",
   "metadata": {},
   "source": [
    "Q7. Build a program that determines the largest of three given numbers."
   ]
  },
  {
   "cell_type": "code",
   "execution_count": 1,
   "id": "50d76ab4-f4d6-4dee-831d-1c06a708774f",
   "metadata": {},
   "outputs": [
    {
     "name": "stdin",
     "output_type": "stream",
     "text": [
      "Enter the first value:  5\n",
      "Enter the second value:  1\n",
      "Enter the third value:  2\n"
     ]
    },
    {
     "name": "stdout",
     "output_type": "stream",
     "text": [
      "A is greater than all\n"
     ]
    }
   ],
   "source": [
    "a=int(input(\"Enter the first value: \"))\n",
    "b=int(input(\"Enter the second value: \"))\n",
    "c=int(input(\"Enter the third value: \"))\n",
    "if a>b:\n",
    "    if a>c:\n",
    "        print(\"A is greater than all\")\n",
    "    else:\n",
    "        print(\"C is greater than A\")\n",
    "else:\n",
    "    if b>c:\n",
    "        print(\"B is greater than C\")\n",
    "    else :\n",
    "        print(\"C is greater than A\")"
   ]
  },
  {
   "cell_type": "code",
   "execution_count": null,
   "id": "a43eed24-f1a6-43f4-8e9e-565a4d12ef9b",
   "metadata": {},
   "outputs": [],
   "source": []
  },
  {
   "cell_type": "markdown",
   "id": "c2aa2976-ef56-4704-901e-b89d90cce8ec",
   "metadata": {},
   "source": [
    "Q8. Develop a program that checks whether a character is a vowel or a consonant."
   ]
  },
  {
   "cell_type": "code",
   "execution_count": 3,
   "id": "5f828d72-4bb7-43fe-bacf-acf7dfce127d",
   "metadata": {},
   "outputs": [
    {
     "name": "stdin",
     "output_type": "stream",
     "text": [
      "Enter the character:  h\n"
     ]
    },
    {
     "name": "stdout",
     "output_type": "stream",
     "text": [
      "This character is consonant.\n"
     ]
    }
   ],
   "source": [
    "l=['a','e','i','o','u']\n",
    "word=input(\"Enter the character: \")\n",
    "lower=word.lower()\n",
    "if lower in l:\n",
    "    print(\"This character is vowel.\")\n",
    "else:\n",
    "    print(\"This character is consonant.\")"
   ]
  },
  {
   "cell_type": "code",
   "execution_count": null,
   "id": "a54b3dad-2097-465a-a162-e26a531c5fcb",
   "metadata": {},
   "outputs": [],
   "source": []
  },
  {
   "cell_type": "markdown",
   "id": "999a7818-a13c-4789-80ac-7e536c63b2d1",
   "metadata": {},
   "source": [
    "Q9. Create a program to calculate the total cost of a shopping cart based on discounts."
   ]
  },
  {
   "cell_type": "code",
   "execution_count": 6,
   "id": "689e2970-624c-4364-b702-2d5be3b9f89b",
   "metadata": {},
   "outputs": [
    {
     "name": "stdin",
     "output_type": "stream",
     "text": [
      "Enter your amount:  1000\n"
     ]
    },
    {
     "name": "stdout",
     "output_type": "stream",
     "text": [
      "!!! Congratulation !!! \n",
      "    You got 10% discount on your shopping \n",
      "Your payable cost is:  900.0\n"
     ]
    }
   ],
   "source": [
    "cost=int(input(\"Enter your amount: \"))\n",
    "if cost>=1000:\n",
    "    print('''!!! Congratulation !!! \n",
    "    You got 10% discount on your shopping ''')\n",
    "    cost=cost*0.9\n",
    "    print(\"Your payable cost is: \",cost)\n",
    "else:\n",
    "    print(\"You need to pay: \",cost)"
   ]
  },
  {
   "cell_type": "code",
   "execution_count": null,
   "id": "0f50c372-ed34-44dc-bdef-cecf5c88fa62",
   "metadata": {},
   "outputs": [],
   "source": []
  },
  {
   "cell_type": "markdown",
   "id": "6ded3f2e-f2f9-40c2-8045-e1ff15f43c02",
   "metadata": {},
   "source": [
    "Q10. Write a program that checks if a given number is even or odd."
   ]
  },
  {
   "cell_type": "code",
   "execution_count": 8,
   "id": "5138037e-a184-443c-a10c-3a86625fd344",
   "metadata": {},
   "outputs": [
    {
     "name": "stdin",
     "output_type": "stream",
     "text": [
      "Enter the number:  25\n"
     ]
    },
    {
     "name": "stdout",
     "output_type": "stream",
     "text": [
      "Odd number\n"
     ]
    }
   ],
   "source": [
    "n=int(input(\"Enter the number: \"))\n",
    "if n%2==0:\n",
    "    print(\"Even number\")\n",
    "else:\n",
    "    print(\"Odd number\")"
   ]
  },
  {
   "cell_type": "code",
   "execution_count": null,
   "id": "ae990ddd-1349-4156-a0eb-69bc921d1809",
   "metadata": {},
   "outputs": [],
   "source": []
  },
  {
   "cell_type": "markdown",
   "id": "e8da1113-6feb-49af-b5fe-e18f9e143713",
   "metadata": {},
   "source": [
    "## Intermediate Level:"
   ]
  },
  {
   "cell_type": "code",
   "execution_count": null,
   "id": "f2b55ce5-13f3-4247-881a-cd847a883898",
   "metadata": {},
   "outputs": [],
   "source": []
  },
  {
   "cell_type": "markdown",
   "id": "0c999bad-5db7-4af6-a517-1f1432e2af26",
   "metadata": {},
   "source": [
    "Q11. Write a program that calculates the roots of a quadratic equation ."
   ]
  },
  {
   "cell_type": "code",
   "execution_count": 6,
   "id": "2ae6b96d-0837-49e7-bc36-87b31b3674bd",
   "metadata": {},
   "outputs": [
    {
     "name": "stdin",
     "output_type": "stream",
     "text": [
      "Enter the value of a:  5\n",
      "Enter the value of b:  2\n",
      "Enter the value of c:  6\n"
     ]
    },
    {
     "name": "stdout",
     "output_type": "stream",
     "text": [
      "The solution are (-0.2-1.0770329614269007j) and (-0.2+1.0770329614269007j)\n"
     ]
    }
   ],
   "source": [
    "import cmath\n",
    "\n",
    "a = int(input(\"Enter the value of a: \"))\n",
    "b = int(input(\"Enter the value of b: \"))\n",
    "c = int(input(\"Enter the value of c: \"))\n",
    "\n",
    "# calculate the discriminant\n",
    "d = (b**2) - (4*a*c)\n",
    "\n",
    "# find two solutions\n",
    "sol1 = (-b-cmath.sqrt(d))/(2*a)\n",
    "sol2 = (-b+cmath.sqrt(d))/(2*a)\n",
    "\n",
    "print('The solution are {0} and {1}'.format(sol1,sol2))"
   ]
  },
  {
   "cell_type": "code",
   "execution_count": null,
   "id": "8bfcac2c-dc29-4bf7-b29c-b520154f2eb2",
   "metadata": {},
   "outputs": [],
   "source": []
  },
  {
   "cell_type": "markdown",
   "id": "9807d19c-ce01-446f-86ff-b3a1340036f4",
   "metadata": {},
   "source": [
    "Q12. Create a program that determines the day of the week based on the day number (1-7)."
   ]
  },
  {
   "cell_type": "code",
   "execution_count": 14,
   "id": "3e74f842-8171-44fb-901e-d0eecd1034c4",
   "metadata": {},
   "outputs": [
    {
     "name": "stdin",
     "output_type": "stream",
     "text": [
      "Enter the day code:  2\n"
     ]
    },
    {
     "name": "stdout",
     "output_type": "stream",
     "text": [
      "Tuesday\n"
     ]
    }
   ],
   "source": [
    "day=int(input(\"Enter the day code: \"))\n",
    "if day==1:\n",
    "    print(\"Monday\")\n",
    "elif day==2:\n",
    "    print(\"Tuesday\")\n",
    "elif day==3:\n",
    "    print(\"Wednesday\")\n",
    "elif day==4:\n",
    "    print(\"Thursday\")\n",
    "elif day==5:\n",
    "    print(\"Friday\")\n",
    "elif day==6:\n",
    "    print(\"Saturday\")\n",
    "elif day==7:\n",
    "    print(\"Sunday\")\n",
    "else:\n",
    "    print(\"Wrong operator\")"
   ]
  },
  {
   "cell_type": "code",
   "execution_count": null,
   "id": "1ac878d1-e774-462e-9381-ca65855ff030",
   "metadata": {},
   "outputs": [],
   "source": []
  },
  {
   "cell_type": "markdown",
   "id": "9f29009d-ec12-41a7-9df8-979ba0eb04f5",
   "metadata": {},
   "source": [
    "Q13. Develop a program that calculates the factorial of a given number using recursion."
   ]
  },
  {
   "cell_type": "code",
   "execution_count": 9,
   "id": "2241a3cc-3626-43d1-a14b-762ac3c560a5",
   "metadata": {},
   "outputs": [
    {
     "name": "stdin",
     "output_type": "stream",
     "text": [
      "Enter the value:  6\n"
     ]
    },
    {
     "name": "stdout",
     "output_type": "stream",
     "text": [
      "720\n"
     ]
    }
   ],
   "source": [
    "def fact(n):\n",
    "    if n<=0:\n",
    "        return 1\n",
    "    else:\n",
    "        return n*fact(n-1)\n",
    "\n",
    "n=int(input(\"Enter the value: \"))\n",
    "print(fact(n))"
   ]
  },
  {
   "cell_type": "code",
   "execution_count": null,
   "id": "568729dd-5f7d-438d-96eb-b9649c3eeb36",
   "metadata": {},
   "outputs": [],
   "source": []
  },
  {
   "cell_type": "markdown",
   "id": "c13d7f5e-f6d0-4a6e-89f7-89d0fd1d8050",
   "metadata": {},
   "source": [
    "Q14. Write a program to find the largest among three numbers without using the `max()` function."
   ]
  },
  {
   "cell_type": "code",
   "execution_count": 1,
   "id": "d49cc234-b80f-4f49-b8ff-1be7b31d7fc6",
   "metadata": {},
   "outputs": [
    {
     "name": "stdin",
     "output_type": "stream",
     "text": [
      "Enter the first value:  5\n",
      "Enter the second value:  2\n",
      "Enter the third value:  3\n"
     ]
    },
    {
     "name": "stdout",
     "output_type": "stream",
     "text": [
      "A is greater to all\n"
     ]
    }
   ],
   "source": [
    "a=int(input(\"Enter the first value: \"))\n",
    "b=int(input(\"Enter the second value: \"))\n",
    "c=int(input(\"Enter the third value: \"))\n",
    "if a>b:\n",
    "    if a>c:\n",
    "        print(\"A is greater to all\")\n",
    "    else:\n",
    "        print(\"C is greater than to A\")\n",
    "else:\n",
    "    if b>c:\n",
    "        print(\"B is greater than C\")\n",
    "    else:\n",
    "        print(\"C is greater than B\")\n",
    "        "
   ]
  },
  {
   "cell_type": "code",
   "execution_count": null,
   "id": "e1c16c56-a6d6-4e25-b07a-bb51794967f5",
   "metadata": {},
   "outputs": [],
   "source": []
  },
  {
   "cell_type": "markdown",
   "id": "acd16c07-4407-4707-8e33-54896012cd92",
   "metadata": {},
   "source": [
    "Q15. Create a program that simulates a basic ATM transaction menu."
   ]
  },
  {
   "cell_type": "code",
   "execution_count": 2,
   "id": "80b52b8a-0acd-4af7-b480-992a91f91ed9",
   "metadata": {},
   "outputs": [
    {
     "name": "stdout",
     "output_type": "stream",
     "text": [
      "\n",
      "Welcome to the ATM\n"
     ]
    },
    {
     "name": "stdin",
     "output_type": "stream",
     "text": [
      "Please enter your four digit pin:  1234\n"
     ]
    },
    {
     "name": "stdout",
     "output_type": "stream",
     "text": [
      "What do you want to do?\n",
      "Enter 1 to Withdraw Cash\n",
      "Enter 2 for Balance Enquiry\n",
      "Enter 3 to Quit\n"
     ]
    },
    {
     "name": "stdin",
     "output_type": "stream",
     "text": [
      "Enter the number corresponding to the activity you want to do:  2\n"
     ]
    },
    {
     "name": "stdout",
     "output_type": "stream",
     "text": [
      "Total balance: 1000 Dollars.\n",
      "\n",
      "What do you want to do?\n",
      "Enter 1 to Withdraw Cash\n",
      "Enter 2 for Balance Enquiry\n",
      "Enter 3 to Quit\n"
     ]
    },
    {
     "name": "stdin",
     "output_type": "stream",
     "text": [
      "Enter the number corresponding to the activity you want to do:  1\n",
      "Enter the amount of money you want to withdraw:  23\n"
     ]
    },
    {
     "name": "stdout",
     "output_type": "stream",
     "text": [
      "23 Dollars successfully withdrawn. Your remaining balance is 977 Dollars.\n",
      "\n",
      "What do you want to do?\n",
      "Enter 1 to Withdraw Cash\n",
      "Enter 2 for Balance Enquiry\n",
      "Enter 3 to Quit\n"
     ]
    },
    {
     "name": "stdin",
     "output_type": "stream",
     "text": [
      "Enter the number corresponding to the activity you want to do:  2\n"
     ]
    },
    {
     "name": "stdout",
     "output_type": "stream",
     "text": [
      "Total balance: 977 Dollars.\n",
      "\n",
      "What do you want to do?\n",
      "Enter 1 to Withdraw Cash\n",
      "Enter 2 for Balance Enquiry\n",
      "Enter 3 to Quit\n"
     ]
    },
    {
     "name": "stdin",
     "output_type": "stream",
     "text": [
      "Enter the number corresponding to the activity you want to do:  3\n"
     ]
    }
   ],
   "source": [
    "user = {'pin': 1234, 'balance': 1000}\n",
    "\n",
    "def withdraw_cash():\n",
    "    while True:\n",
    "        amount = int(input(\"Enter the amount of money you want to withdraw: \"))\n",
    "        if amount > user['balance']:\n",
    "            print(\"You don't have sufficient balance to make this withdrawal\")\n",
    "        else:\n",
    "            user['balance'] = user['balance'] - amount\n",
    "            print(f\"{amount} Dollars successfully withdrawn. Your remaining balance is {user['balance']} Dollars.\")\n",
    "            print('')\n",
    "            return False\n",
    "\n",
    "def balance_enquiry():\n",
    "    print(f\"Total balance: {user['balance']} Dollars.\")\n",
    "    print('')\n",
    "\n",
    "is_quit = False\n",
    "\n",
    "print('')\n",
    "print(\"Welcome to the ATM\")\n",
    "pin = int(input('Please enter your four digit pin: '))\n",
    "\n",
    "if pin == user['pin']:\n",
    "    while is_quit == False:\n",
    "        print(\"What do you want to do?\")\n",
    "        print(\"Enter 1 to Withdraw Cash\")\n",
    "        print(\"Enter 2 for Balance Enquiry\")\n",
    "        print(\"Enter 3 to Quit\")\n",
    "        query = int(input(\"Enter the number corresponding to the activity you want to do: \"))\n",
    "        if query == 1:\n",
    "            withdraw_cash()\n",
    "        elif query == 2:\n",
    "            balance_enquiry()\n",
    "        elif query == 3:\n",
    "            is_quit = True\n",
    "        else:\n",
    "            print(\"Please enter a correct value shown\")\n",
    "else:\n",
    "    print(\"Entered wrong pin\")\n"
   ]
  },
  {
   "cell_type": "code",
   "execution_count": null,
   "id": "c2ebc5a3-a0c0-45f9-aa86-c8eb76f9fff7",
   "metadata": {},
   "outputs": [],
   "source": []
  },
  {
   "cell_type": "markdown",
   "id": "c84e6b83-2578-407c-84cf-77aca2c3d2e8",
   "metadata": {},
   "source": [
    "Q16. Build a program that checks if a given string is a palindrome or not."
   ]
  },
  {
   "cell_type": "code",
   "execution_count": 6,
   "id": "3334b007-ed8a-49c6-8023-94ffe16effe8",
   "metadata": {},
   "outputs": [
    {
     "name": "stdin",
     "output_type": "stream",
     "text": [
      "Enter the string:  malayalam\n"
     ]
    },
    {
     "name": "stdout",
     "output_type": "stream",
     "text": [
      "Given string is palindrome\n"
     ]
    }
   ],
   "source": [
    "string=input(\"Enter the string: \")\n",
    "reverse=string[::-1]\n",
    "if reverse==string:\n",
    "    print(\"Given string is palindrome\")\n",
    "else:\n",
    "    print(\"Given string is not palindrome\")"
   ]
  },
  {
   "cell_type": "code",
   "execution_count": null,
   "id": "ebe07108-cc38-4b99-908a-fa153ce179b5",
   "metadata": {},
   "outputs": [],
   "source": []
  },
  {
   "cell_type": "markdown",
   "id": "e3badec5-9f75-454f-963d-c07edfea3ccb",
   "metadata": {},
   "source": [
    "Q17. Write a program that calculates the average of a list of numbers, excluding the smallest and largest values."
   ]
  },
  {
   "cell_type": "code",
   "execution_count": 10,
   "id": "a888c529-6e1e-46be-893b-815ff3dabac2",
   "metadata": {},
   "outputs": [
    {
     "name": "stdout",
     "output_type": "stream",
     "text": [
      "List:  [1, 2, 3, 4, 5, 6]\n",
      "The average of the list excluding maximum and manimum:  3.5\n"
     ]
    }
   ],
   "source": [
    "l=[1,2,3,4,5,6]\n",
    "print(\"List: \",l)\n",
    "l1=[]\n",
    "l2=[]\n",
    "for i in l:\n",
    "    if i==max(l) & i==min(l):\n",
    "        l1.append(i)\n",
    "    else:\n",
    "        l2.append(i)\n",
    "print(\"The average of the list excluding maximum and manimum: \",sum(l2)/len(l2))        "
   ]
  },
  {
   "cell_type": "code",
   "execution_count": null,
   "id": "bc907ec9-0469-4223-9692-bb4a1f4c67f1",
   "metadata": {},
   "outputs": [],
   "source": []
  },
  {
   "cell_type": "markdown",
   "id": "d8a9c677-28ff-4b49-b114-4c9b47d1edf8",
   "metadata": {},
   "source": [
    "Q18. Develop a program that converts a given temperature from Celsius to Fahrenheit."
   ]
  },
  {
   "cell_type": "code",
   "execution_count": 3,
   "id": "3ff79e56-1fc1-4744-93ba-54ad6bda04ae",
   "metadata": {},
   "outputs": [],
   "source": [
    "def temp(celcius):\n",
    "    f=celcius*(9/5) + 32\n",
    "    return f"
   ]
  },
  {
   "cell_type": "code",
   "execution_count": 4,
   "id": "b15caa9d-182f-4b4d-9ff0-a187fc1e91ba",
   "metadata": {},
   "outputs": [
    {
     "data": {
      "text/plain": [
       "212.0"
      ]
     },
     "execution_count": 4,
     "metadata": {},
     "output_type": "execute_result"
    }
   ],
   "source": [
    "temp(100)"
   ]
  },
  {
   "cell_type": "code",
   "execution_count": null,
   "id": "29e291d2-5823-42c3-9cda-7855d6075f2f",
   "metadata": {},
   "outputs": [],
   "source": []
  },
  {
   "cell_type": "markdown",
   "id": "9c420510-59e7-457c-b9ca-effbf4f99454",
   "metadata": {},
   "source": [
    "Q19. Create a program that simulates a basic calculator for addition, subtraction, multiplication, and division."
   ]
  },
  {
   "cell_type": "code",
   "execution_count": 11,
   "id": "8947e8aa-e19f-4457-8b1f-4ce6f463c665",
   "metadata": {},
   "outputs": [],
   "source": [
    "def calculator(a,b,operator):\n",
    "    if operator=='+':\n",
    "        c=a+b\n",
    "    elif operator=='-':\n",
    "        c=a-b\n",
    "    elif operator=='*':\n",
    "        c=a*b\n",
    "    elif operator=='/':\n",
    "        c=a/b\n",
    "    else:\n",
    "        print(\"You entered some wrong value\")\n",
    "    return c    \n",
    "    "
   ]
  },
  {
   "cell_type": "code",
   "execution_count": 12,
   "id": "3d85963b-1945-411b-9d3d-234fd4dce8bf",
   "metadata": {},
   "outputs": [
    {
     "data": {
      "text/plain": [
       "6"
      ]
     },
     "execution_count": 12,
     "metadata": {},
     "output_type": "execute_result"
    }
   ],
   "source": [
    "calculator(2,3,'*')"
   ]
  },
  {
   "cell_type": "code",
   "execution_count": null,
   "id": "f98c293d-bba8-4b83-a071-85f67b52d646",
   "metadata": {},
   "outputs": [],
   "source": []
  },
  {
   "cell_type": "markdown",
   "id": "53091b28-66b7-4b49-8d68-e278edd647ec",
   "metadata": {},
   "source": [
    "Q20. Write a program that determines the roots of a cubic equation using the Cardano formula."
   ]
  },
  {
   "cell_type": "code",
   "execution_count": 5,
   "id": "978d8062-10c6-4ff9-806a-eb2e067c5475",
   "metadata": {},
   "outputs": [],
   "source": [
    "def solve_cubic(a, b, c, d):\n",
    "    Q = (3*a*c - (b**2)) / (9* (a**2))\n",
    "    R = (9*a*b*c - 27* (a**2)*d - 2* (b**3)) / (54* (a**3))\n",
    "    D = (Q**3) + (R**2)\n",
    "    S = (R + (D** (1/2)))** (1/3)\n",
    "    T = (R - (D** (1/2)))** (1/3)\n",
    "    x1 = S + T - (b/ (3*a))\n",
    "    x2 = - ( (S + T)/2) - (b/ (3*a)) + 0.5j * (3** (1/2)) * (S - T)\n",
    "    x3 = - ( (S + T)/2) - (b/ (3*a)) - 0.5j * (3** (1/2)) * (S - T)\n",
    "    return (x1, x2, x3)\n"
   ]
  },
  {
   "cell_type": "code",
   "execution_count": 6,
   "id": "2f6a6863-72dc-4ad7-9da3-6e6ac6beeabd",
   "metadata": {},
   "outputs": [
    {
     "name": "stdout",
     "output_type": "stream",
     "text": [
      "((0.42697045480630835+1.199502715028224j), (-0.17468540428030588-0.8521365428250519j), (-2.252285050526002-0.3473661722031721j))\n"
     ]
    }
   ],
   "source": [
    "roots = solve_cubic(1, 2, 3, 4)\n",
    "print(roots)"
   ]
  },
  {
   "cell_type": "code",
   "execution_count": null,
   "id": "67473df9-c446-406a-a198-50bd8ba77e83",
   "metadata": {},
   "outputs": [],
   "source": []
  },
  {
   "cell_type": "markdown",
   "id": "7ce99b7c-23b7-4fc8-b949-4a1ce48122f2",
   "metadata": {},
   "source": [
    "## Advanced Level:"
   ]
  },
  {
   "cell_type": "code",
   "execution_count": null,
   "id": "9277696f-d984-4f98-b423-7e1656952d24",
   "metadata": {},
   "outputs": [],
   "source": []
  },
  {
   "cell_type": "markdown",
   "id": "73620cf7-2de5-4055-9104-58514a6b2024",
   "metadata": {},
   "source": [
    "Q21. Create a program that calculates the income tax based on the user's income and tax brackets."
   ]
  },
  {
   "cell_type": "code",
   "execution_count": 2,
   "id": "2fd34019-76a2-4721-8bde-7f129f4324c1",
   "metadata": {},
   "outputs": [
    {
     "name": "stdin",
     "output_type": "stream",
     "text": [
      "Enter our income 10000000\n"
     ]
    },
    {
     "name": "stdout",
     "output_type": "stream",
     "text": [
      "You need to pay (30%) of your income as per government rules and regulation.\n",
      "Your payable tax is:  3000000.0\n"
     ]
    }
   ],
   "source": [
    "income=int(input(\"Enter our income\"))\n",
    "if 0<= income < 250000:\n",
    "    print(\"You don't need pay the income tax.\") \n",
    "elif 250000<= income < 500000:\n",
    "    print(\"You need to pay (5%) of your income as per government rules and regulation.\")\n",
    "    income= income*0.05\n",
    "    print(\"Your payable tax is: \",income)\n",
    "elif 500000<= income < 750000:\n",
    "    print(\"You need to pay (10%) of your income as per government rules and regulation.\")\n",
    "    income= income*0.1\n",
    "    print(\"Your payable tax is: \",income)\n",
    "elif 750000<= income < 1000000:\n",
    "    print(\"You need to pay (15%) of your income as per government rules and regulation.\")\n",
    "    income= income*0.15\n",
    "    print(\"Your payable tax is: \",income)\n",
    "elif 1000000<= income < 1250000:\n",
    "    print(\"You need to pay (20%) of your income as per government rules and regulation.\")\n",
    "    income= income*0.2\n",
    "    print(\"Your payable tax is: \",income)\n",
    "elif 1250000<= income < 1500000:\n",
    "    print(\"You need to pay (25%) of your income as per government rules and regulation.\")\n",
    "    income= income*0.25\n",
    "    print(\"Your payable tax is: \",income)\n",
    "else:\n",
    "    print(\"You need to pay (30%) of your income as per government rules and regulation.\")\n",
    "    income= income*0.30\n",
    "    print(\"Your payable tax is: \",income)"
   ]
  },
  {
   "cell_type": "code",
   "execution_count": null,
   "id": "5d685d62-cfe6-4eae-a261-49823018ef51",
   "metadata": {},
   "outputs": [],
   "source": []
  },
  {
   "cell_type": "markdown",
   "id": "fd07851d-6e00-4e30-b710-ef48213560a0",
   "metadata": {},
   "source": [
    "Q22. Write a program that simulates a rock-paper-scissors game against the computer."
   ]
  },
  {
   "cell_type": "code",
   "execution_count": 6,
   "id": "f5cc6414-d232-439c-9a6e-88c89a81eaa0",
   "metadata": {},
   "outputs": [],
   "source": [
    "import random \n",
    "\n",
    "def play_game():\n",
    "    choices =['rock','paper','scissors']\n",
    "    \n",
    "    computer_choice= random.choice(choices)\n",
    "    user_choice=input(\"Choose rock, paper, or scissors: \").lower()\n",
    "    print(f\"Computer choice: {computer_choice}\")\n",
    "    print(f\"Your choice: {user_choice}\")\n",
    "    if user_choice not in choices:\n",
    "        print(\"You need to choose the valid option: \")\n",
    "    elif user_choice == computer_choice:\n",
    "        print(\"Match is tie\")\n",
    "    elif(user_choice == 'rock' and computer_choice == 'scissors') or (user_choice =='paper' and computer_choice == 'rock') or (user_choice == 'scissors' and computer_choice=='paper'):\n",
    "        print(\"You win\")\n",
    "    else:\n",
    "        print(\"Computer wins\")\n",
    "        \n",
    "        \n",
    "    print(\"Enter '1' for continue or 'any keys' for exit\")\n",
    "    press=int(input(\"Enter your choice: \"))\n",
    "    if press==1:\n",
    "        play_game()\n",
    "    else:\n",
    "        print(\"Thanks for visiting\")"
   ]
  },
  {
   "cell_type": "code",
   "execution_count": 7,
   "id": "6c008b91-7baf-4a9d-a302-db097da5d1ae",
   "metadata": {},
   "outputs": [
    {
     "name": "stdin",
     "output_type": "stream",
     "text": [
      "Choose rock, paper, or scissors:  rock\n"
     ]
    },
    {
     "name": "stdout",
     "output_type": "stream",
     "text": [
      "Computer choice: rock\n",
      "Your choice: rock\n",
      "Match is tie\n",
      "Enter '1' for continue or 'any keys' for exit\n"
     ]
    },
    {
     "name": "stdin",
     "output_type": "stream",
     "text": [
      "Enter your choice:  1\n",
      "Choose rock, paper, or scissors:  paper\n"
     ]
    },
    {
     "name": "stdout",
     "output_type": "stream",
     "text": [
      "Computer choice: paper\n",
      "Your choice: paper\n",
      "Match is tie\n",
      "Enter '1' for continue or 'any keys' for exit\n"
     ]
    },
    {
     "name": "stdin",
     "output_type": "stream",
     "text": [
      "Enter your choice:  5\n"
     ]
    },
    {
     "name": "stdout",
     "output_type": "stream",
     "text": [
      "Thanks for visiting\n"
     ]
    }
   ],
   "source": [
    "play_game()"
   ]
  },
  {
   "cell_type": "code",
   "execution_count": null,
   "id": "9f4c3077-8784-4a4e-bbe5-4c2258569f67",
   "metadata": {},
   "outputs": [],
   "source": []
  },
  {
   "cell_type": "markdown",
   "id": "5df524f5-e66c-4b65-b3c1-423acbae7081",
   "metadata": {},
   "source": [
    "Q23. Develop a program that generates a random password based on user preferences (length, complexity)."
   ]
  },
  {
   "cell_type": "code",
   "execution_count": 6,
   "id": "65bc8751-607b-4cc0-b15a-a7ca7a0796a2",
   "metadata": {},
   "outputs": [
    {
     "name": "stdin",
     "output_type": "stream",
     "text": [
      "Enter length of the password:  10\n"
     ]
    },
    {
     "name": "stdout",
     "output_type": "stream",
     "text": [
      "Unique password:  uohyOoL1KV\n"
     ]
    }
   ],
   "source": [
    "import random \n",
    "length=int(input(\"Enter length of the password: \"))\n",
    "characters=\"ABCDEFGHIJKLMNOPQRSTUVWXYZabcdefghijklmnopqrstuvwxyz1234567890!@#$%^&*()_+\"\n",
    "pwd_str=''\n",
    "\n",
    "for i in range(length):\n",
    "    pwd_str=pwd_str+ random.choice(characters)\n",
    "    \n",
    "print(\"Unique password: \",pwd_str)    "
   ]
  },
  {
   "cell_type": "code",
   "execution_count": null,
   "id": "39b8d9dc-9931-4b02-a21f-48a555a0095d",
   "metadata": {},
   "outputs": [],
   "source": []
  },
  {
   "cell_type": "markdown",
   "id": "bd97d790-f0ed-496d-a1b3-db59eb83b877",
   "metadata": {},
   "source": [
    "Q24. Create a program that implements a simple text-based adventure game with branching scenarios."
   ]
  },
  {
   "cell_type": "code",
   "execution_count": 13,
   "id": "b2bf21d3-b0d7-4308-9450-b23e3a859e9a",
   "metadata": {},
   "outputs": [],
   "source": [
    "def intro():\n",
    "    print(\"!!!!! Welcome to the text-based adventure game !!!!!\")\n",
    "    print(\"\\nYou are on road\")\n",
    "    print(\"Now you have two choice whether take right or left way\")\n",
    "    print(\"Right way gives the good direction in the life and left way gives the bad direction in your life\")  \n",
    "    print(\"Press '1' for right way or Press '2' for left way\")\n",
    "    way_choice=int(input(\"Enter the choice: \"))\n",
    "    if way_choice==1:\n",
    "        rightway()\n",
    "    elif way_choice==2:\n",
    "        leftway()\n",
    "    else:\n",
    "        print(\"You entered wrong choice\")\n",
    "        \n",
    "def rightway():\n",
    "    print(\"Now you are on the right way.\")\n",
    "    print(\"So you need to do good workd in your life\")\n",
    "    print(\"Do you want to do good works or not\")\n",
    "    print(\"Press '1' to do good work or Press '2' to do anything in your life \")\n",
    "    press=int(input(\"Enter the choice: \"))\n",
    "    if press==1:\n",
    "        print(\"You have to take some measure to become the good person in your life\")\n",
    "    elif press==2:\n",
    "        print(\"You can also become person to do some good works in your life\")\n",
    "    else:\n",
    "        print(\"You entered the wrong choice\")\n",
    "        \n",
    "def leftway():\n",
    "    print(\"You choice the left way\")\n",
    "    print(\"So you don't do the good work in your life\")\n",
    "    print(\"After done some bad work in your life. So you also have two way\")\n",
    "    print(\"Whether you want to continue bad work or try to do the good work in your life\")\n",
    "    print(\"Press '1' to continue the bad work in your life or Press '2' to change your path towards good work\")\n",
    "    press=int(input(\"Enter the choice: \"))\n",
    "    if press==1:\n",
    "        print(\"After done bad work in your life. You still choice this path\")\n",
    "    elif press==2:\n",
    "        print(\"You decide the good path, after done some bad work in your life. Now you realize the importance of good work\")\n",
    "        rightway()"
   ]
  },
  {
   "cell_type": "code",
   "execution_count": 14,
   "id": "410f2147-b702-40fb-bf78-4c43f4f78c7d",
   "metadata": {},
   "outputs": [
    {
     "name": "stdout",
     "output_type": "stream",
     "text": [
      "!!!!! Welcome to the text-based adventure game !!!!!\n",
      "\n",
      "You are on road\n",
      "Now you have two choice whether take right or left way\n",
      "Right way gives the good direction in the life and left way gives the bad direction in your life\n",
      "Press '1' for right way or Press '2' for left way\n"
     ]
    },
    {
     "name": "stdin",
     "output_type": "stream",
     "text": [
      "Enter the choice:  2\n"
     ]
    },
    {
     "name": "stdout",
     "output_type": "stream",
     "text": [
      "You choice the left way\n",
      "So you don't do the good work in your life\n",
      "After done some bad work in your life. So you also have two way\n",
      "Whether you want to continue bad work or try to do the good work in your life\n",
      "Press '1' to continue the bad work in your life or Press '2' to change your path towards good work\n"
     ]
    },
    {
     "name": "stdin",
     "output_type": "stream",
     "text": [
      "Enter the choice:  2\n"
     ]
    },
    {
     "name": "stdout",
     "output_type": "stream",
     "text": [
      "You decide the good path, after done some bad work in your life. Now you realize the importance of good work\n",
      "Now you are on the right way.\n",
      "So you need to do good workd in your life\n",
      "Do you want to do good works or not\n",
      "Press '1' to do good work or Press '2' to do anything in your life \n"
     ]
    },
    {
     "name": "stdin",
     "output_type": "stream",
     "text": [
      "Enter the choice:  2\n"
     ]
    },
    {
     "name": "stdout",
     "output_type": "stream",
     "text": [
      "You can also become person to do some good works in your life\n"
     ]
    }
   ],
   "source": [
    "intro()"
   ]
  },
  {
   "cell_type": "code",
   "execution_count": null,
   "id": "04e8bf4d-d9b2-4b4d-81fc-3574ec2f02b0",
   "metadata": {},
   "outputs": [],
   "source": []
  },
  {
   "cell_type": "markdown",
   "id": "412d4d03-4199-4d81-b8cf-1afff75da664",
   "metadata": {},
   "source": [
    "Q25. Build a program that solves a linear equation  for x, considering different cases."
   ]
  },
  {
   "cell_type": "code",
   "execution_count": 2,
   "id": "225fb9eb-af03-4ebf-8634-927c51fb0595",
   "metadata": {},
   "outputs": [
    {
     "name": "stdout",
     "output_type": "stream",
     "text": [
      "Enter the coefficients a,b,c: \n"
     ]
    },
    {
     "name": "stdin",
     "output_type": "stream",
     "text": [
      "a =  3\n",
      "b =  4\n",
      "c =  5\n"
     ]
    },
    {
     "name": "stdout",
     "output_type": "stream",
     "text": [
      "The equation has one solution : x=-1.6666666666666667\n"
     ]
    }
   ],
   "source": [
    "def linear_equation(a,b,c):\n",
    "    if a==0:\n",
    "        if b==0:\n",
    "            print(\"The equation has no solution.\")\n",
    "        else:\n",
    "            print(\"The equation has one solution: x=0.\")\n",
    "    else:\n",
    "        x= -c/a\n",
    "        print(\"The equation has one solution : x=\" + str(x))\n",
    "\n",
    "print(\"Enter the coefficients a,b,c: \")\n",
    "a=float(input(\"a = \"))\n",
    "b=float(input(\"b = \"))\n",
    "c=float(input(\"c = \"))\n",
    "linear_equation(a,b,c)"
   ]
  },
  {
   "cell_type": "code",
   "execution_count": null,
   "id": "5b6e8cc2-0835-440b-8e52-827742a9b78e",
   "metadata": {},
   "outputs": [],
   "source": []
  },
  {
   "cell_type": "markdown",
   "id": "2fbe3ae8-9eda-4d1f-8709-8fb15ebd0550",
   "metadata": {},
   "source": [
    "Q26. Write a program that simulates a basic quiz game with multiple-choice questions and scoring."
   ]
  },
  {
   "cell_type": "code",
   "execution_count": 4,
   "id": "b743aefd-cc5e-4a44-a057-ad389bb3fca7",
   "metadata": {},
   "outputs": [
    {
     "name": "stdout",
     "output_type": "stream",
     "text": [
      "Basic Quiz Game with multiple-choice question\n",
      "\n",
      "This Quiz consist of 3 question\n",
      "\n",
      "If you make any mistake in the spelling then your make will be deducted\n",
      "\n",
      "Q1. How is the Prime Minister of India ?\n"
     ]
    },
    {
     "name": "stdin",
     "output_type": "stream",
     "text": [
      "Enter the name narendra modi\n"
     ]
    },
    {
     "name": "stdout",
     "output_type": "stream",
     "text": [
      "\n",
      "Q2. How is the President of India ?\n"
     ]
    },
    {
     "name": "stdin",
     "output_type": "stream",
     "text": [
      "Enter the name droupati murmu\n"
     ]
    },
    {
     "name": "stdout",
     "output_type": "stream",
     "text": [
      "\n",
      "Q3. 'Na' is the scientific name of ?\n"
     ]
    },
    {
     "name": "stdin",
     "output_type": "stream",
     "text": [
      "Enter the name Sodium\n"
     ]
    },
    {
     "name": "stdout",
     "output_type": "stream",
     "text": [
      "Your score: 3\n"
     ]
    }
   ],
   "source": [
    "print(\"Basic Quiz Game with multiple-choice question\")\n",
    "print()\n",
    "print(\"This Quiz consist of 3 question\")\n",
    "print()\n",
    "print(\"If you make any mistake in the spelling then your make will be deducted\")\n",
    "print()\n",
    "sum=0\n",
    "answer=True\n",
    "print(\"Q1. How is the Prime Minister of India ?\")\n",
    "solution=input(\"Enter the name\").lower()\n",
    "if solution==\"narendra modi\":\n",
    "    answer=True\n",
    "    sum=sum+1\n",
    "else:\n",
    "    answer=False\n",
    "print()    \n",
    "print(\"Q2. How is the President of India ?\")\n",
    "solution=input(\"Enter the name\").lower()\n",
    "if solution==\"droupati murmu\":\n",
    "    answer=True\n",
    "    sum=sum+1\n",
    "else:\n",
    "    answer=False\n",
    "print()    \n",
    "print(\"Q3. 'Na' is the scientific name of ?\")\n",
    "solution=input(\"Enter the name\").lower()\n",
    "if solution==\"sodium\":\n",
    "    answer=True\n",
    "    sum=sum+1\n",
    "else:\n",
    "    answer=False\n",
    "print(f\"Your score:\",sum)"
   ]
  },
  {
   "cell_type": "code",
   "execution_count": null,
   "id": "6c29746c-e227-46b7-8e22-e66d168cfdc6",
   "metadata": {},
   "outputs": [],
   "source": []
  },
  {
   "cell_type": "markdown",
   "id": "44f13fea-d1d9-450a-bf1b-eded3c46738e",
   "metadata": {},
   "source": [
    "Q27.Develop a program that determines whether a given year is a prime number or not."
   ]
  },
  {
   "cell_type": "code",
   "execution_count": 11,
   "id": "c4985a7c-d953-4903-a8b3-d38604a27551",
   "metadata": {},
   "outputs": [],
   "source": [
    "def prime(n):\n",
    "    if n<=1:\n",
    "        return \"Year is not a prime number\"\n",
    "    else:\n",
    "        for i in range(2,int(n**0.5)+1):\n",
    "            if n%i == 0:\n",
    "                return \"Year is not a prime number\"\n",
    "        return \"Year is prime number\"        "
   ]
  },
  {
   "cell_type": "code",
   "execution_count": 13,
   "id": "695a71a3-981c-4d8a-b70b-9dd1cb8c4e35",
   "metadata": {},
   "outputs": [
    {
     "data": {
      "text/plain": [
       "'Year is prime number'"
      ]
     },
     "execution_count": 13,
     "metadata": {},
     "output_type": "execute_result"
    }
   ],
   "source": [
    "prime(2999)"
   ]
  },
  {
   "cell_type": "code",
   "execution_count": null,
   "id": "19034e72-9358-4d07-a20d-c4af8cc0504e",
   "metadata": {},
   "outputs": [],
   "source": []
  },
  {
   "cell_type": "markdown",
   "id": "7b89966b-bd88-4be8-a3fe-5510358d307c",
   "metadata": {},
   "source": [
    "Q28. Create a program that sorts three numbers in ascending order using conditional statements."
   ]
  },
  {
   "cell_type": "code",
   "execution_count": 18,
   "id": "0f4fdffe-70cd-476a-b7ed-4c2b4f92577f",
   "metadata": {},
   "outputs": [
    {
     "name": "stdin",
     "output_type": "stream",
     "text": [
      "Enter the value of a:  5\n",
      "Enter the value of b:  9\n",
      "Enter the value of c:  10\n"
     ]
    },
    {
     "name": "stdout",
     "output_type": "stream",
     "text": [
      "Ascending order of following number: 5 9 10\n"
     ]
    }
   ],
   "source": [
    "a=int(input(\"Enter the value of a: \"))\n",
    "b=int(input(\"Enter the value of b: \"))\n",
    "c=int(input(\"Enter the value of c: \"))\n",
    "if a>c:\n",
    "    a,c=c,a\n",
    "if a>b:\n",
    "    a,b=b,a\n",
    "if b>c:\n",
    "    b,c=c,b\n",
    "print(\"Ascending order of following number:\",a,b,c)    "
   ]
  },
  {
   "cell_type": "code",
   "execution_count": null,
   "id": "ec8eb07b-39e1-43a5-9d50-298a7227dc6d",
   "metadata": {},
   "outputs": [],
   "source": []
  },
  {
   "cell_type": "markdown",
   "id": "26278685-33fc-42b3-915e-bd1b7ec85095",
   "metadata": {},
   "source": [
    "Q29. Build a program that determines the roots of a quartic equation using numerical methods."
   ]
  },
  {
   "cell_type": "code",
   "execution_count": 1,
   "id": "2176449c-d9d5-47cd-a03e-029a764b4c4b",
   "metadata": {},
   "outputs": [
    {
     "name": "stdout",
     "output_type": "stream",
     "text": [
      "Note: you may need to restart the kernel to use updated packages.Collecting numpy\n",
      "  Obtaining dependency information for numpy from https://files.pythonhosted.org/packages/32/95/908d0caa051beae4f7c77652dbbeb781e7b717f3040c5c5fcaed4d3ed08f/numpy-1.26.1-cp312-cp312-win_amd64.whl.metadata\n",
      "  Using cached numpy-1.26.1-cp312-cp312-win_amd64.whl.metadata (61 kB)\n",
      "Using cached numpy-1.26.1-cp312-cp312-win_amd64.whl (15.5 MB)\n",
      "Installing collected packages: numpy\n",
      "Successfully installed numpy-1.26.1\n",
      "\n"
     ]
    },
    {
     "name": "stderr",
     "output_type": "stream",
     "text": [
      "\n",
      "[notice] A new release of pip is available: 23.2.1 -> 23.3.1\n",
      "[notice] To update, run: python.exe -m pip install --upgrade pip\n"
     ]
    }
   ],
   "source": [
    "pip install numpy"
   ]
  },
  {
   "cell_type": "code",
   "execution_count": 2,
   "id": "3302b0e1-973d-4b64-94e7-670f0e19db43",
   "metadata": {},
   "outputs": [
    {
     "name": "stdout",
     "output_type": "stream",
     "text": [
      "The roots of the quartic equation are: [-1.28781548+0.85789676j -1.28781548-0.85789676j  0.28781548+1.41609308j\n",
      "  0.28781548-1.41609308j]\n"
     ]
    }
   ],
   "source": [
    "import numpy as np\n",
    "\n",
    "# Define the coefficients of the quartic equation\n",
    "a = 1\n",
    "b = 2\n",
    "c = 3\n",
    "d = 4\n",
    "e = 5\n",
    "\n",
    "# Define the coefficients of the polynomial\n",
    "p = [a, b, c, d, e]\n",
    "\n",
    "# Find the roots of the polynomial\n",
    "roots = np.roots(p)\n",
    "\n",
    "print(\"The roots of the quartic equation are:\", roots)"
   ]
  },
  {
   "cell_type": "code",
   "execution_count": null,
   "id": "9f3475c5-000e-42da-a77f-4ba4392e10be",
   "metadata": {},
   "outputs": [],
   "source": []
  },
  {
   "cell_type": "markdown",
   "id": "45eb1f65-6922-4c3a-a900-b0c2b1347f77",
   "metadata": {},
   "source": [
    "Q30. Write a program that calculates the BMI (Body Mass Index) and provides health recommendations based on the user's input."
   ]
  },
  {
   "cell_type": "code",
   "execution_count": 11,
   "id": "94529e99-3c62-41dc-a847-173c6fe2f864",
   "metadata": {},
   "outputs": [
    {
     "name": "stdin",
     "output_type": "stream",
     "text": [
      "Enter the weight in kg:  25\n",
      "Enter the height in centimetre:  136\n"
     ]
    },
    {
     "name": "stdout",
     "output_type": "stream",
     "text": [
      "The person is Underweight\n"
     ]
    }
   ],
   "source": [
    "weight=int(input(\"Enter the weight in kg: \"))\n",
    "height=float(input(\"Enter the height in centimetre: \"))\n",
    "x = (weight/height/height)*10000\n",
    "# here x is bmi(body mass index)\n",
    "if x <= 18.4:\n",
    "    print(\"The person is Underweight\")\n",
    "elif x> 18.5 and x< 24.9:\n",
    "    print(\"The person is normal\")\n",
    "elif x > 25.0 and x < 40.0:\n",
    "    print(\"The person is Overweight\")\n",
    "elif x>=40:\n",
    "    print(\"The person is Obese\")\n",
    "else:\n",
    "    print(\"Invalid entry\")"
   ]
  },
  {
   "cell_type": "code",
   "execution_count": null,
   "id": "d34301fe-3042-44e2-b02f-95c23d508990",
   "metadata": {},
   "outputs": [],
   "source": []
  },
  {
   "cell_type": "markdown",
   "id": "3381f66d-2bb0-4b11-ab79-1b9502a2e571",
   "metadata": {},
   "source": [
    "## Challenge Level:"
   ]
  },
  {
   "cell_type": "code",
   "execution_count": null,
   "id": "69d0c0c4-ce60-4c61-8730-6629cc96d396",
   "metadata": {},
   "outputs": [],
   "source": []
  },
  {
   "cell_type": "markdown",
   "id": "a77f93ad-595d-4e08-87b5-691679fe5349",
   "metadata": {},
   "source": [
    "Q31. Create a program that validates a password based on complexity rules (length, characters, etc.)."
   ]
  },
  {
   "cell_type": "code",
   "execution_count": 5,
   "id": "292b7a92-e1fb-4b18-8cae-f46d24d0aa1a",
   "metadata": {},
   "outputs": [],
   "source": [
    "import re \n",
    "def password(p):\n",
    "    x=True\n",
    "    while x:\n",
    "        if len(p)<=8:\n",
    "            print(\"Make sure your password is atleast contain 8 letters.\")\n",
    "            break\n",
    "        elif not re.search(\"[0-9]\",p):\n",
    "            print(\"Make sure your password is atleat contain 1 number character.\")\n",
    "            break\n",
    "        elif not re.search('[A-Z]',p):\n",
    "            print(\"Make sure your password is atleat contain 1 capital character.\")\n",
    "            break\n",
    "        elif not re.search('[a-z]',p):\n",
    "            print(\"Make sure your password is atleat contain 1 lowercase character.\")\n",
    "            break\n",
    "        else:\n",
    "            print(\"Valid password\")\n",
    "            break\n",
    "            "
   ]
  },
  {
   "cell_type": "code",
   "execution_count": 7,
   "id": "55ee68f2-a07b-432c-a24c-6820a9f94cc8",
   "metadata": {},
   "outputs": [
    {
     "name": "stdout",
     "output_type": "stream",
     "text": [
      "Make sure your password is atleat contain 1 lowercase character.\n"
     ]
    }
   ],
   "source": [
    "password(\"R12532@123\")"
   ]
  },
  {
   "cell_type": "code",
   "execution_count": null,
   "id": "55b11a88-ec20-4d65-b814-cfee24d17750",
   "metadata": {},
   "outputs": [],
   "source": []
  },
  {
   "cell_type": "markdown",
   "id": "86a6fbd3-640f-4d2c-a970-73e592ebe109",
   "metadata": {},
   "source": [
    "Q32. Develop a program that performs matrix addition and subtraction based on user input."
   ]
  },
  {
   "cell_type": "code",
   "execution_count": 7,
   "id": "c973ccb1-bf7f-47f9-a407-83db1fc64769",
   "metadata": {},
   "outputs": [],
   "source": [
    "def matrices(m1,m2):\n",
    "    rows=len(m1)\n",
    "    columns=len(m1[0])\n",
    "\n",
    "    opr=input(\"Enter the operation ou want to perform(add, sub): \")\n",
    "    result= [[0 for i in range(columns)] for j in range(rows)]\n",
    "    for i in range(rows):\n",
    "        for j in range(columns):\n",
    "            if opr=='add':\n",
    "                result[i][j]=m1[i][j] + m2[i][j]\n",
    "            elif opr== 'sub':\n",
    "                result[i][j]=m1[i][j] - m2[i][j]\n",
    "            else:\n",
    "                print(\"No operation\")\n",
    "    return result   "
   ]
  },
  {
   "cell_type": "code",
   "execution_count": 8,
   "id": "af9200cd-638b-4892-ae93-e4783059e572",
   "metadata": {},
   "outputs": [
    {
     "name": "stdin",
     "output_type": "stream",
     "text": [
      "Enter the operation ou want to perform(add, sub):  add\n"
     ]
    },
    {
     "data": {
      "text/plain": [
       "[[17, 15, 4], [10, 12, 9], [11, 13, 18]]"
      ]
     },
     "execution_count": 8,
     "metadata": {},
     "output_type": "execute_result"
    }
   ],
   "source": [
    "m1=[[12,7,3],[4,5,6],[7,8,9]]\n",
    "m2=[[5,8,1],[6,7,3],[4,5,9]]\n",
    "matrices(m1,m2)"
   ]
  },
  {
   "cell_type": "code",
   "execution_count": null,
   "id": "765bed7e-796f-4b5d-86ff-ad9b27c49e54",
   "metadata": {},
   "outputs": [],
   "source": []
  },
  {
   "cell_type": "markdown",
   "id": "85537ed1-ded0-46d6-be53-135cabbca2b3",
   "metadata": {},
   "source": [
    "33. Write a program that calculates the greatest common divisor (GCD) of two numbers using the Euclidean algorithm."
   ]
  },
  {
   "cell_type": "code",
   "execution_count": 8,
   "id": "7162b651-8af7-46c7-a182-20f8044ca93a",
   "metadata": {},
   "outputs": [
    {
     "name": "stdin",
     "output_type": "stream",
     "text": [
      "Enter the first number:  16\n",
      "Enter the second number:  32\n"
     ]
    },
    {
     "name": "stdout",
     "output_type": "stream",
     "text": [
      "The greatest common divisor of 16 and 32 is 16\n"
     ]
    }
   ],
   "source": [
    "def gcd(a,b):\n",
    "    while b:\n",
    "        a,b=b,a%b\n",
    "    return a\n",
    "\n",
    "def mains():\n",
    "    a=int(input(\"Enter the first number: \"))\n",
    "    b=int(input(\"Enter the second number: \"))\n",
    "    gcd_value=gcd(a,b)\n",
    "    print(f\"The greatest common divisor of {a} and {b} is {gcd_value}\")\n",
    "\n",
    "if __name__==\"__main__\":\n",
    "    mains()\n"
   ]
  },
  {
   "cell_type": "code",
   "execution_count": null,
   "id": "bba4b9e9-49fa-4462-bb82-5b277f06ecea",
   "metadata": {},
   "outputs": [],
   "source": []
  },
  {
   "cell_type": "markdown",
   "id": "80509935-53c8-437c-a986-6f7a419629af",
   "metadata": {},
   "source": [
    "34. Build a program that performs matrix multiplication using nested loops and conditional statements."
   ]
  },
  {
   "cell_type": "code",
   "execution_count": 14,
   "id": "068a732e-05b5-45b2-9c08-4640e35c8bf6",
   "metadata": {},
   "outputs": [],
   "source": [
    "def matrix_mul(m1,m2):\n",
    "    n=len(m1)\n",
    "    m=len(m1[0])\n",
    "    p=len(m2[0])\n",
    "    c=[[0 for i in range(m)] for j in range(n)]\n",
    "    for i in range(n):\n",
    "        for j in range(p):\n",
    "            for k in range(m):\n",
    "                c[i][j]+=m1[i][j]*m2[i][j]\n",
    "    return c            "
   ]
  },
  {
   "cell_type": "code",
   "execution_count": 18,
   "id": "f4afaf00-9f6b-4c40-bd6f-43a77ff0f1a0",
   "metadata": {},
   "outputs": [
    {
     "name": "stdout",
     "output_type": "stream",
     "text": [
      "[[21, 48, 81], [108, 150, 198]]\n",
      "\n",
      "[[21, 48, 81], [108, 150, 198]]\n"
     ]
    }
   ],
   "source": [
    "a=[[1,2,3],[4,5,6]]\n",
    "b=[[7,8,9],[9,10,11]]\n",
    "\n",
    "print(matrix_mul(a,b))\n",
    "print()\n",
    "print(matrix_mul(b,a))"
   ]
  },
  {
   "cell_type": "code",
   "execution_count": null,
   "id": "b5965e56-2007-454e-b745-ce58a52bfd66",
   "metadata": {},
   "outputs": [],
   "source": []
  },
  {
   "cell_type": "markdown",
   "id": "556bbdd2-ada5-4733-ae88-e43320530cea",
   "metadata": {},
   "source": [
    " 35. Create a program that simulates a basic text-based tic-tac-toe game against the computer."
   ]
  },
  {
   "cell_type": "code",
   "execution_count": 2,
   "id": "86a7547e-1065-4511-8392-9976245b3b7f",
   "metadata": {},
   "outputs": [
    {
     "name": "stdout",
     "output_type": "stream",
     "text": [
      "Welcome to Tic-Tac-Toe!\n",
      "You are X, the computer is O.\n",
      "Enter moves as a number from 1-9, like this:\n",
      " 1 | 2 | 3 \n",
      "---+---+---\n",
      " 4 | 5 | 6 \n",
      "---+---+---\n",
      " 7 | 8 | 9 \n"
     ]
    },
    {
     "name": "stdin",
     "output_type": "stream",
     "text": [
      "Enter your move (1-9):  3\n"
     ]
    },
    {
     "name": "stdout",
     "output_type": "stream",
     "text": [
      "   |   | X \n",
      "---+---+---\n",
      "   |   |   \n",
      "---+---+---\n",
      "   |   |   \n",
      "The computer moved to 1.\n",
      " O |   | X \n",
      "---+---+---\n",
      "   |   |   \n",
      "---+---+---\n",
      "   |   |   \n"
     ]
    },
    {
     "name": "stdin",
     "output_type": "stream",
     "text": [
      "Enter your move (1-9):  7\n"
     ]
    },
    {
     "name": "stdout",
     "output_type": "stream",
     "text": [
      " O |   | X \n",
      "---+---+---\n",
      "   |   |   \n",
      "---+---+---\n",
      " X |   |   \n",
      "The computer moved to 2.\n",
      " O | O | X \n",
      "---+---+---\n",
      "   |   |   \n",
      "---+---+---\n",
      " X |   |   \n"
     ]
    },
    {
     "name": "stdin",
     "output_type": "stream",
     "text": [
      "Enter your move (1-9):  5\n"
     ]
    },
    {
     "name": "stdout",
     "output_type": "stream",
     "text": [
      " O | O | X \n",
      "---+---+---\n",
      "   | X |   \n",
      "---+---+---\n",
      " X |   |   \n",
      "You win!\n"
     ]
    }
   ],
   "source": [
    "import random\n",
    "\n",
    "def print_board(board):\n",
    "    print(f\" {board[0]} | {board[1]} | {board[2]} \")\n",
    "    print(\"---+---+---\")\n",
    "    print(f\" {board[3]} | {board[4]} | {board[5]} \")\n",
    "    print(\"---+---+---\")\n",
    "    print(f\" {board[6]} | {board[7]} | {board[8]} \")\n",
    "\n",
    "def get_player_move(board):\n",
    "    while True:\n",
    "        move = input(\"Enter your move (1-9): \")\n",
    "        if move.isdigit() and int(move) in range(1, 10) and board[int(move) - 1] == \" \":\n",
    "            return int(move) - 1\n",
    "        else:\n",
    "            print(\"Invalid move. Try again.\")\n",
    "\n",
    "def get_computer_move(board):\n",
    "    for i in range(9):\n",
    "        if board[i] == \" \":\n",
    "            return i\n",
    "    return None\n",
    "\n",
    "def check_win(board):\n",
    "    for i in range(0, 9, 3):\n",
    "        if board[i] != \" \" and board[i] == board[i + 1] == board[i + 2]:\n",
    "            return True\n",
    "    for i in range(3):\n",
    "        if board[i] != \" \" and board[i] == board[i + 3] == board[i + 6]:\n",
    "            return True\n",
    "    if board[0] != \" \" and board[0] == board[4] == board[8]:\n",
    "        return True\n",
    "    if board[2] != \" \" and board[2] == board[4] == board[6]:\n",
    "        return True\n",
    "    return False\n",
    "\n",
    "def play_game():\n",
    "    print(\"Welcome to Tic-Tac-Toe!\")\n",
    "    print(\"You are X, the computer is O.\")\n",
    "    print(\"Enter moves as a number from 1-9, like this:\")\n",
    "    print_board([\"1\", \"2\", \"3\", \"4\", \"5\", \"6\", \"7\", \"8\", \"9\"])\n",
    "    board = [\" \"] * 9\n",
    "    while True:\n",
    "        player_move = get_player_move(board)\n",
    "        board[player_move] = \"X\"\n",
    "        print_board(board)\n",
    "        if check_win(board):\n",
    "            print(\"You win!\")\n",
    "            break\n",
    "        if all([x != \" \" for x in board]):\n",
    "            print(\"It's a tie!\")\n",
    "            break\n",
    "        computer_move = get_computer_move(board)\n",
    "        if computer_move is None:\n",
    "            print(\"It's a tie!\")\n",
    "            break\n",
    "        board[computer_move] = \"O\"\n",
    "        print(f\"The computer moved to {computer_move + 1}.\")\n",
    "        print_board(board)\n",
    "        if check_win(board):\n",
    "            print(\"The computer wins!\")\n",
    "            break\n",
    "\n",
    "play_game()\n"
   ]
  },
  {
   "cell_type": "code",
   "execution_count": null,
   "id": "88e86918-4eec-4906-ab77-5a0406663a1c",
   "metadata": {},
   "outputs": [],
   "source": []
  },
  {
   "cell_type": "markdown",
   "id": "4eb87b1a-f2fd-4601-8d27-9750bbb0afb3",
   "metadata": {},
   "source": [
    "Q36. Write a program that generates Fibonacci numbers up to a specified term using iterative methods."
   ]
  },
  {
   "cell_type": "code",
   "execution_count": 12,
   "id": "6ababe49-9e49-4b1f-89fa-501b390d84ce",
   "metadata": {},
   "outputs": [
    {
     "name": "stdin",
     "output_type": "stream",
     "text": [
      "Enter the value of the n: 10\n"
     ]
    },
    {
     "name": "stdout",
     "output_type": "stream",
     "text": [
      "0 1 1 2 3 5 8 13 21 34 "
     ]
    }
   ],
   "source": [
    "def fib(n):\n",
    "    a,b=0,1\n",
    "    for i in range(n):\n",
    "        yield a\n",
    "        a,b=b,a+b\n",
    "\n",
    "n=int(input(\"Enter the value of the n:\"))\n",
    "for i in fib(n):\n",
    "    print(i,end=\" \")"
   ]
  },
  {
   "cell_type": "code",
   "execution_count": null,
   "id": "6f3c0b32-775d-45ed-a4ed-3d5232ef1c24",
   "metadata": {},
   "outputs": [],
   "source": []
  },
  {
   "cell_type": "markdown",
   "id": "31a049cf-5057-439d-9884-06b75d94d1d1",
   "metadata": {},
   "source": [
    "Q37. Develop a program that calculates the nth term of the Fibonacci sequence using memoization."
   ]
  },
  {
   "cell_type": "code",
   "execution_count": 16,
   "id": "5d336c46-07b3-47d9-ad61-0bb7b39a7a92",
   "metadata": {},
   "outputs": [],
   "source": [
    "def fibo(n):\n",
    "    if n<=0:\n",
    "        print(\"Incorrect input\")\n",
    "    elif n==1:\n",
    "        return 0\n",
    "    elif n==2:\n",
    "        return 1\n",
    "    else:\n",
    "        return fibo(n-1) + fibo(n-2)"
   ]
  },
  {
   "cell_type": "code",
   "execution_count": 17,
   "id": "2ab6e83c-df13-4d8a-85ad-f9078a981da1",
   "metadata": {},
   "outputs": [
    {
     "data": {
      "text/plain": [
       "34"
      ]
     },
     "execution_count": 17,
     "metadata": {},
     "output_type": "execute_result"
    }
   ],
   "source": [
    "fibo(10)"
   ]
  },
  {
   "cell_type": "code",
   "execution_count": null,
   "id": "87fa2b3e-5845-49ff-a9f5-5e5af8aeebc1",
   "metadata": {},
   "outputs": [],
   "source": []
  },
  {
   "cell_type": "markdown",
   "id": "7b9e90de-a753-4448-8d41-6221cd168e96",
   "metadata": {},
   "source": [
    "Q38. Create a program that generates a calendar for a given month and year using conditional statements."
   ]
  },
  {
   "cell_type": "code",
   "execution_count": 1,
   "id": "2ffb8239-7097-40f9-8fbb-8a1024aad53d",
   "metadata": {},
   "outputs": [
    {
     "name": "stdin",
     "output_type": "stream",
     "text": [
      "Enter the year:  2023\n",
      "Enter the month(1-12):  11\n"
     ]
    },
    {
     "name": "stdout",
     "output_type": "stream",
     "text": [
      "\n",
      "   November 2023\n",
      "Mo Tu We Th Fr Sa Su\n",
      "       1  2  3  4  5\n",
      " 6  7  8  9 10 11 12\n",
      "13 14 15 16 17 18 19\n",
      "20 21 22 23 24 25 26\n",
      "27 28 29 30\n",
      "\n"
     ]
    }
   ],
   "source": [
    "import calendar\n",
    "year=int(input(\"Enter the year: \"))\n",
    "month=int(input(\"Enter the month(1-12): \"))\n",
    "if year> 1950 and month<=12 and month>=1:\n",
    "    cal=calendar.month(year,month)\n",
    "    print()\n",
    "    print(cal)\n",
    "else:\n",
    "    print(\"Invalid year, Month\")"
   ]
  },
  {
   "cell_type": "code",
   "execution_count": null,
   "id": "8c01d366-4454-4c78-adec-a826dd73f43e",
   "metadata": {},
   "outputs": [],
   "source": []
  },
  {
   "cell_type": "markdown",
   "id": "6278f239-ef1a-4d15-844e-04db0b924801",
   "metadata": {},
   "source": [
    "Q39. Build a program that simulates a basic text-based blackjack game against the computer."
   ]
  },
  {
   "cell_type": "code",
   "execution_count": 2,
   "id": "64f15508-a506-4cbe-8564-eeec30018acd",
   "metadata": {},
   "outputs": [
    {
     "name": "stdout",
     "output_type": "stream",
     "text": [
      "   Your cards: [2, 8], current score: 10\n",
      "   Computer's first card: 7\n"
     ]
    },
    {
     "name": "stdin",
     "output_type": "stream",
     "text": [
      "Type 'y' to get another card, type 'n' to pass:  10\n"
     ]
    },
    {
     "name": "stdout",
     "output_type": "stream",
     "text": [
      "   Your final hand: [2, 8], final score: 10\n",
      "   Computer's final hand: [7, 10], final score: 17\n",
      "You lose \n"
     ]
    }
   ],
   "source": [
    "import random\n",
    "\n",
    "def deal_card():\n",
    "    \"\"\"Returns a random card from the deck.\"\"\"\n",
    "    cards = [11,2,3,4,5,6,7,8,9,10,10,10,10]\n",
    "    return random.choice(cards)\n",
    "\n",
    "def calculate_score(cards):\n",
    "    \"\"\"Take a list of cards and return the score calculated from the cards\"\"\"\n",
    "    if sum(cards) == 21 and len(cards) == 2:\n",
    "        return 0\n",
    "    if 11 in cards and sum(cards) > 21:\n",
    "        cards.remove(11)\n",
    "        cards.append(1)\n",
    "    return sum(cards)\n",
    "\n",
    "def compare(user_score, computer_score):\n",
    "    \"\"\"Compare the scores between the user and computer and return the result\"\"\"\n",
    "    if user_score == computer_score:\n",
    "        return \"Draw!\"\n",
    "    elif computer_score == 0:\n",
    "        return \"Lose, opponent has Blackjack \"\n",
    "    elif user_score == 0:\n",
    "        return \"Win with a Blackjack \"\n",
    "    elif user_score > 21:\n",
    "        return \"You went over. You lose \"\n",
    "    elif computer_score > 21:\n",
    "        return \"Opponent went over. You win \"\n",
    "    elif user_score > computer_score:\n",
    "        return \"You win \"\n",
    "    else:\n",
    "        return \"You lose \"\n",
    "\n",
    "def play_game():\n",
    "    \"\"\"Play a game of blackjack\"\"\"\n",
    "    user_cards = []\n",
    "    computer_cards = []\n",
    "    is_game_over = False\n",
    "\n",
    "    for _ in range(2):\n",
    "        user_cards.append(deal_card())\n",
    "        computer_cards.append(deal_card())\n",
    "\n",
    "    while not is_game_over:\n",
    "        user_score = calculate_score(user_cards)\n",
    "        computer_score = calculate_score(computer_cards)\n",
    "        print(f\"   Your cards: {user_cards}, current score: {user_score}\")\n",
    "        print(f\"   Computer's first card: {computer_cards[0]}\")\n",
    "\n",
    "        if user_score == 0 or computer_score == 0 or user_score > 21:\n",
    "            is_game_over = True\n",
    "        else:\n",
    "            user_should_deal = input(\"Type 'y' to get another card, type 'n' to pass: \")\n",
    "            if user_should_deal == \"y\":\n",
    "                user_cards.append(deal_card())\n",
    "            else:\n",
    "                is_game_over = True\n",
    "\n",
    "    while computer_score != 0 and computer_score < 17:\n",
    "        computer_cards.append(deal_card())\n",
    "        computer_score = calculate_score(computer_cards)\n",
    "\n",
    "    print(f\"   Your final hand: {user_cards}, final score: {user_score}\")\n",
    "    print(f\"   Computer's final hand: {computer_cards}, final score: {computer_score}\")\n",
    "    print(compare(user_score, computer_score))\n",
    "\n",
    "play_game()\n"
   ]
  },
  {
   "cell_type": "code",
   "execution_count": null,
   "id": "a447650c-8634-4995-a478-2c626b373b12",
   "metadata": {},
   "outputs": [],
   "source": []
  },
  {
   "cell_type": "markdown",
   "id": "a5d84a83-210a-461a-a63f-7141fab3e6d8",
   "metadata": {},
   "source": [
    "Q40. Write a program that generates the prime factors of a given number using trial division."
   ]
  },
  {
   "cell_type": "code",
   "execution_count": 23,
   "id": "6b55c74f-0666-494b-b12d-349cc1d68a4a",
   "metadata": {},
   "outputs": [],
   "source": [
    "def prime_factors(n):\n",
    "    i = 2\n",
    "    factors = []\n",
    "    while i * i <= n:\n",
    "        if n % i:\n",
    "            i += 1\n",
    "        else:\n",
    "            n //= i\n",
    "            factors.append(i)\n",
    "    if n > 1:\n",
    "        factors.append(n)\n",
    "    return factors\n"
   ]
  },
  {
   "cell_type": "code",
   "execution_count": 24,
   "id": "c8ae0deb-e2d6-48fd-9452-199c7e01c2a0",
   "metadata": {},
   "outputs": [
    {
     "data": {
      "text/plain": [
       "[3, 5, 23]"
      ]
     },
     "execution_count": 24,
     "metadata": {},
     "output_type": "execute_result"
    }
   ],
   "source": [
    "prime_factors(345)"
   ]
  },
  {
   "cell_type": "code",
   "execution_count": null,
   "id": "1864d73f-db6d-48f1-8e00-7ab1b4872359",
   "metadata": {},
   "outputs": [],
   "source": []
  }
 ],
 "metadata": {
  "kernelspec": {
   "display_name": "Python 3 (ipykernel)",
   "language": "python",
   "name": "python3"
  },
  "language_info": {
   "codemirror_mode": {
    "name": "ipython",
    "version": 3
   },
   "file_extension": ".py",
   "mimetype": "text/x-python",
   "name": "python",
   "nbconvert_exporter": "python",
   "pygments_lexer": "ipython3",
   "version": "3.12.0"
  }
 },
 "nbformat": 4,
 "nbformat_minor": 5
}
